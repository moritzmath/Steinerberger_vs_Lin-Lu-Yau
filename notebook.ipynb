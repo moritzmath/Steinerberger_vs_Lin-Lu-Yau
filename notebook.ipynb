{
 "cells": [
  {
   "cell_type": "markdown",
   "id": "244f98a0",
   "metadata": {},
   "source": [
    "# 1. Setup  \n",
    "\n",
    "Attention: Nodes of the graph must be labeled 0,...,|V|-1 for the code to work!"
   ]
  },
  {
   "cell_type": "code",
   "execution_count": 1,
   "id": "b4087c90",
   "metadata": {},
   "outputs": [],
   "source": [
    "import networkx as nx\n",
    "from scipy.stats import pearsonr\n",
    "\n",
    "from curvatures import steinerbergerCurvature, lly_curvature"
   ]
  },
  {
   "cell_type": "markdown",
   "id": "dfd03134",
   "metadata": {},
   "source": [
    "# 2. Comparison between curvatures\n",
    "\n",
    "We compare the values of the Steinerberger curvature and the Lin-Lu-Yau curvature on different random graphs"
   ]
  },
  {
   "cell_type": "code",
   "execution_count": 18,
   "id": "8be2a6e0",
   "metadata": {},
   "outputs": [],
   "source": [
    "def compare_edge_average(N,n,q, graph_type=\"ER\"):\n",
    "    \"\"\"Compare the Steinerberger curvature to the Lin-Lu-Yau curvature by averaging the Steinerberger curvature of the two endpoints of an edge\n",
    "\n",
    "    Args:\n",
    "        N (int): Number of graphs\n",
    "        n (int): Number of vertices in the Erdos-Renyi graph\n",
    "        q (float): Probability for edge creation\n",
    "        graph_type (str): Type of Random graph\n",
    "    \"\"\"\n",
    "    pearson_correlation = []\n",
    "    for _ in range(N):\n",
    "        if graph_type == \"ER\":\n",
    "            G=nx.erdos_renyi_graph(n=n, p=q)\n",
    "        elif graph_type == \"SBM\": \n",
    "            G = nx.stochastic_block_model(sizes=[n,n,n], p=[[q, 0.1, 0.1], [0.1, q, 0.1], [0.1, 0.1, q]])\n",
    "        else:\n",
    "            raise TypeError(\"Graph type not supported\")\n",
    "        while not nx.is_connected(G):\n",
    "            if graph_type == \"ER\":\n",
    "                G=nx.erdos_renyi_graph(n=n, p=q)\n",
    "            elif graph_type == \"SBM\": \n",
    "                G = nx.stochastic_block_model(sizes=[n,n,n], p=[[q, 0.1, 0.1], [0.1, q, 0.1], [0.1, 0.1, q]])\n",
    "            else:\n",
    "                raise TypeError(\"Graph type not supported\")\n",
    "            # print(\"Disconnected Graph encountered\")\n",
    "\n",
    "        llyCurv = lly_curvature(G, double_edges=False)\n",
    "        steinerbergerCurv = steinerbergerCurvature(G)\n",
    "        avg_steinerberger_curv = []\n",
    "        llyCurvList = []\n",
    "        for edge in llyCurv.keys():\n",
    "            average_steinerberger_curv = 0.5*(steinerbergerCurv[edge[0]] + steinerbergerCurv[edge[1]])\n",
    "            avg_steinerberger_curv.append(average_steinerberger_curv)\n",
    "            llyCurvList.append(llyCurv[edge])\n",
    "                \n",
    "       \n",
    "        r, p = pearsonr(llyCurvList, avg_steinerberger_curv)\n",
    "        \n",
    "        pearson_correlation.append(r)\n",
    "    return pearson_correlation"
   ]
  },
  {
   "cell_type": "code",
   "execution_count": 19,
   "id": "28984050",
   "metadata": {},
   "outputs": [],
   "source": [
    "def compare_vertex_average(N,n,q, graph_type=\"ER\"):\n",
    "    \"\"\"Compare the Steinerberger curvature to the Lin-Lu-Yau curvature by averaging the Lin-Lu-Yau curvature of all edges adjacent to a given vertex\n",
    "\n",
    "    Args:\n",
    "        N (int): Number of graphs\n",
    "        n (int): NUmber of vertices in the Erdos-Renyi graph\n",
    "        q (float): Probability of edge creation\n",
    "    \"\"\"\n",
    "    pearson_correlation = []\n",
    "    for _ in range(N):\n",
    "        if graph_type == \"ER\":\n",
    "            G=nx.erdos_renyi_graph(n=n, p=q)\n",
    "        elif graph_type == \"SBM\": \n",
    "            G = nx.stochastic_block_model(sizes=[n,n,n], p=[[q, 0.1, 0.1], [0.1, q, 0.1], [0.1, 0.1, q]])\n",
    "        else:\n",
    "            raise TypeError(\"Graph type not supported\")\n",
    "        while not nx.is_connected(G):\n",
    "            if graph_type == \"ER\":\n",
    "                G=nx.erdos_renyi_graph(n=n, p=q)\n",
    "            elif graph_type == \"SBM\": \n",
    "                G = nx.stochastic_block_model(sizes=[n,n,n], p=[[q, 0.1, 0.1], [0.1, q, 0.1], [0.1, 0.1, q]])\n",
    "            else:\n",
    "                raise TypeError(\"Graph type not supported\")\n",
    "            # print(\"Disconnected Graph encountered\")\n",
    "            \n",
    "        llyCurv = lly_curvature(G)\n",
    "        steinerbergerCurv = steinerbergerCurvature(G)\n",
    "        llyCurv_vertex = []\n",
    "        if graph_type == \"ER\":\n",
    "            for i in range(n):\n",
    "                lly_curv_average = 0\n",
    "                for j in range(n):\n",
    "                    if G.has_edge(i,j):\n",
    "                        lly_curv_average += llyCurv[(i,j)]\n",
    "                lly_curv_average /= G.degree(i)\n",
    "                llyCurv_vertex.append(lly_curv_average)\n",
    "            r, p = pearsonr(llyCurv_vertex, steinerbergerCurv)   \n",
    "            pearson_correlation.append(r)\n",
    "        elif graph_type==\"SBM\": \n",
    "            for i in range(3*n):\n",
    "                lly_curv_average = 0\n",
    "                for j in range(n):\n",
    "                    if G.has_edge(i,j):\n",
    "                        lly_curv_average += llyCurv[(i,j)]\n",
    "                lly_curv_average /= G.degree(i)\n",
    "                llyCurv_vertex.append(lly_curv_average)\n",
    "            r, p = pearsonr(llyCurv_vertex, steinerbergerCurv)   \n",
    "            pearson_correlation.append(r)\n",
    "    return pearson_correlation"
   ]
  },
  {
   "cell_type": "markdown",
   "id": "322fb3a3",
   "metadata": {},
   "source": [
    "## 2.1 Erdős–Rényi model"
   ]
  },
  {
   "cell_type": "markdown",
   "id": "9f06ee0a",
   "metadata": {},
   "source": [
    "### 2.1.1 Averaging over endpoints of an edge"
   ]
  },
  {
   "cell_type": "code",
   "execution_count": 10,
   "id": "6ea67da4",
   "metadata": {},
   "outputs": [
    {
     "data": {
      "text/plain": [
       "[np.float64(-0.0961405160797754),\n",
       " np.float64(0.17315514620955236),\n",
       " np.float64(0.0488344245503329),\n",
       " np.float64(-0.16606943343378802),\n",
       " np.float64(0.30710868040621797),\n",
       " np.float64(0.31328673211844527),\n",
       " np.float64(0.12386462801335442),\n",
       " np.float64(-0.16340392870328513),\n",
       " np.float64(-0.10978379694890622),\n",
       " np.float64(-0.13630521503692558)]"
      ]
     },
     "execution_count": 10,
     "metadata": {},
     "output_type": "execute_result"
    }
   ],
   "source": [
    "N, n, q = 10, 10, 0.5\n",
    "compare_edge_average(N=N,n=n, q=q)"
   ]
  },
  {
   "cell_type": "code",
   "execution_count": 11,
   "id": "889c795f",
   "metadata": {},
   "outputs": [
    {
     "data": {
      "text/plain": [
       "[np.float64(-0.31238464681067274),\n",
       " np.float64(-0.16234583291985016),\n",
       " np.float64(-0.1259218688538286),\n",
       " np.float64(-0.3033611322048959),\n",
       " np.float64(-0.34233389100292483),\n",
       " np.float64(-0.20451267368260784),\n",
       " np.float64(-0.07341261827611753),\n",
       " np.float64(-0.17893398195485433),\n",
       " np.float64(-0.435655367776988),\n",
       " np.float64(0.011868396294262226)]"
      ]
     },
     "execution_count": 11,
     "metadata": {},
     "output_type": "execute_result"
    }
   ],
   "source": [
    "N, n, q = 10, 10, 0.6\n",
    "compare_edge_average(N=N,n=n, q=q)"
   ]
  },
  {
   "cell_type": "code",
   "execution_count": 12,
   "id": "1ef385fc",
   "metadata": {},
   "outputs": [
    {
     "data": {
      "text/plain": [
       "[np.float64(0.03635650052582182),\n",
       " np.float64(0.17000465852905589),\n",
       " np.float64(-0.22434802847229915),\n",
       " np.float64(0.14114888202106843),\n",
       " np.float64(-0.1897783974471389),\n",
       " np.float64(0.08857835096084149),\n",
       " np.float64(-0.42057955139613434),\n",
       " np.float64(-0.03940633371707973),\n",
       " np.float64(0.02043686896903074),\n",
       " np.float64(0.09458100817351336)]"
      ]
     },
     "execution_count": 12,
     "metadata": {},
     "output_type": "execute_result"
    }
   ],
   "source": [
    "N, n, q = 10, 10, 0.7\n",
    "compare_edge_average(N=N,n=n, q=q)"
   ]
  },
  {
   "cell_type": "code",
   "execution_count": 14,
   "id": "39bd208c",
   "metadata": {},
   "outputs": [
    {
     "data": {
      "text/plain": [
       "[np.float64(-0.08869375782812398),\n",
       " np.float64(0.052306580149232396),\n",
       " np.float64(-0.2444366026549634),\n",
       " np.float64(-0.06401926728974462),\n",
       " np.float64(0.13948871925981574),\n",
       " np.float64(-0.11144601605097766),\n",
       " np.float64(-0.12320195095064043),\n",
       " np.float64(-0.13056923523961098),\n",
       " np.float64(-0.008221281371715551),\n",
       " np.float64(-0.12358244823175193)]"
      ]
     },
     "execution_count": 14,
     "metadata": {},
     "output_type": "execute_result"
    }
   ],
   "source": [
    "N, n, q = 10, 20, 0.5\n",
    "compare_edge_average(N=N,n=n, q=q)"
   ]
  },
  {
   "cell_type": "code",
   "execution_count": 15,
   "id": "ef9ece3c",
   "metadata": {},
   "outputs": [
    {
     "data": {
      "text/plain": [
       "[np.float64(-0.1179590189701793),\n",
       " np.float64(-0.10700634547571992),\n",
       " np.float64(-0.1345867211713824),\n",
       " np.float64(-0.005270786834314312),\n",
       " np.float64(-0.06275285947713832),\n",
       " np.float64(0.033919209147237776),\n",
       " np.float64(0.1208687273411697),\n",
       " np.float64(0.013865134373752653),\n",
       " np.float64(-0.12449176286348701),\n",
       " np.float64(-0.22253386093483687)]"
      ]
     },
     "execution_count": 15,
     "metadata": {},
     "output_type": "execute_result"
    }
   ],
   "source": [
    "N, n, q = 10, 20, 0.6\n",
    "compare_edge_average(N=N,n=n, q=q)"
   ]
  },
  {
   "cell_type": "code",
   "execution_count": 16,
   "id": "8e1ccd7b",
   "metadata": {},
   "outputs": [
    {
     "data": {
      "text/plain": [
       "[np.float64(-0.02952311323120703),\n",
       " np.float64(-0.18558494941611142),\n",
       " np.float64(-0.0004908273887768433),\n",
       " np.float64(-0.1372529275045696),\n",
       " np.float64(-0.11349943749829872),\n",
       " np.float64(-0.15489768880354848),\n",
       " np.float64(0.06626256912968015),\n",
       " np.float64(-0.07933860917303125),\n",
       " np.float64(-0.23955055563849964),\n",
       " np.float64(-0.2629659194152434)]"
      ]
     },
     "execution_count": 16,
     "metadata": {},
     "output_type": "execute_result"
    }
   ],
   "source": [
    "N, n, q = 10, 20, 0.7\n",
    "compare_edge_average(N=N,n=n, q=q)"
   ]
  },
  {
   "cell_type": "markdown",
   "id": "33395120",
   "metadata": {},
   "source": [
    "### 2.1.2 Averaging over adjacent edges"
   ]
  },
  {
   "cell_type": "code",
   "execution_count": 34,
   "id": "5572289b",
   "metadata": {},
   "outputs": [
    {
     "data": {
      "text/plain": [
       "[np.float64(-0.68419054363783),\n",
       " np.float64(-0.5979994402554288),\n",
       " np.float64(-0.024722267814151294),\n",
       " np.float64(-0.1421373687154358),\n",
       " np.float64(0.1620491394785085),\n",
       " np.float64(-0.13805947919548087),\n",
       " np.float64(0.02279371417641357),\n",
       " np.float64(0.3632955390665231),\n",
       " np.float64(-0.003664429604573073),\n",
       " np.float64(-0.1580421879591278)]"
      ]
     },
     "execution_count": 34,
     "metadata": {},
     "output_type": "execute_result"
    }
   ],
   "source": [
    "N, n, q = 10, 10, 0.5\n",
    "compare_vertex_average(N=N,n=n, q=q)"
   ]
  },
  {
   "cell_type": "code",
   "execution_count": 18,
   "id": "3d83287f",
   "metadata": {},
   "outputs": [
    {
     "data": {
      "text/plain": [
       "[np.float64(-0.34968492735794654),\n",
       " np.float64(-0.06687178744613248),\n",
       " np.float64(0.2904035183150737),\n",
       " np.float64(-0.04212169065823812),\n",
       " np.float64(-0.6950284601243919),\n",
       " np.float64(0.025352619382124547),\n",
       " np.float64(-0.2050519699368405),\n",
       " np.float64(0.15547102654133152),\n",
       " np.float64(-0.2113500871330276),\n",
       " np.float64(0.46219961730087517)]"
      ]
     },
     "execution_count": 18,
     "metadata": {},
     "output_type": "execute_result"
    }
   ],
   "source": [
    "N, n, q = 10, 10, 0.6\n",
    "compare_vertex_average(N=N,n=n, q=q)"
   ]
  },
  {
   "cell_type": "code",
   "execution_count": 19,
   "id": "4a78d1ac",
   "metadata": {},
   "outputs": [
    {
     "data": {
      "text/plain": [
       "[np.float64(-0.43208451763618894),\n",
       " np.float64(-0.1777595476165686),\n",
       " np.float64(-0.2462607361189529),\n",
       " np.float64(-0.3196346658466588),\n",
       " np.float64(0.5809873093368887),\n",
       " np.float64(-0.08197695696822303),\n",
       " np.float64(-0.33029968376384244),\n",
       " np.float64(-0.34472985039198883),\n",
       " np.float64(0.3665413478238017),\n",
       " np.float64(-0.4800473155152837)]"
      ]
     },
     "execution_count": 19,
     "metadata": {},
     "output_type": "execute_result"
    }
   ],
   "source": [
    "N, n, q = 10, 10, 0.7\n",
    "compare_vertex_average(N=N,n=n, q=q)"
   ]
  },
  {
   "cell_type": "code",
   "execution_count": 20,
   "id": "beeb259c",
   "metadata": {},
   "outputs": [
    {
     "data": {
      "text/plain": [
       "[np.float64(-0.12666167525104688),\n",
       " np.float64(0.05951628016159588),\n",
       " np.float64(-0.009309458181456886),\n",
       " np.float64(0.2353204713560442),\n",
       " np.float64(-0.11944520482571949),\n",
       " np.float64(0.011487110940235069),\n",
       " np.float64(-0.1253654008757485),\n",
       " np.float64(0.1581198864663917),\n",
       " np.float64(-0.10462860166443794),\n",
       " np.float64(-0.0694768072089696)]"
      ]
     },
     "execution_count": 20,
     "metadata": {},
     "output_type": "execute_result"
    }
   ],
   "source": [
    "N, n, q = 10, 20, 0.5\n",
    "compare_vertex_average(N=N,n=n, q=q)"
   ]
  },
  {
   "cell_type": "code",
   "execution_count": 21,
   "id": "f5dbce0e",
   "metadata": {},
   "outputs": [
    {
     "data": {
      "text/plain": [
       "[np.float64(-0.06497455268728797),\n",
       " np.float64(0.16536877184536872),\n",
       " np.float64(-0.3247613861541811),\n",
       " np.float64(0.034176308870014535),\n",
       " np.float64(-0.07101669505734318),\n",
       " np.float64(0.29745852159426844),\n",
       " np.float64(0.014615235772047735),\n",
       " np.float64(-0.15078114579971433),\n",
       " np.float64(-0.17520260923053943),\n",
       " np.float64(-0.017988560347082592)]"
      ]
     },
     "execution_count": 21,
     "metadata": {},
     "output_type": "execute_result"
    }
   ],
   "source": [
    "N, n, q = 10, 20, 0.6\n",
    "compare_vertex_average(N=N,n=n, q=q)"
   ]
  },
  {
   "cell_type": "code",
   "execution_count": 22,
   "id": "75c0cbdc",
   "metadata": {},
   "outputs": [
    {
     "data": {
      "text/plain": [
       "[np.float64(-0.03527236062500558),\n",
       " np.float64(-0.21254652336541563),\n",
       " np.float64(-0.3267789882415502),\n",
       " np.float64(-0.16310809765727752),\n",
       " np.float64(0.3950452397489443),\n",
       " np.float64(-0.12666562320449568),\n",
       " np.float64(0.16483917112580282),\n",
       " np.float64(-0.14719710528778204),\n",
       " np.float64(-0.1882194645654257),\n",
       " np.float64(-0.4185064743949325)]"
      ]
     },
     "execution_count": 22,
     "metadata": {},
     "output_type": "execute_result"
    }
   ],
   "source": [
    "N, n, q = 10, 20, 0.7\n",
    "compare_vertex_average(N=N,n=n, q=q)"
   ]
  },
  {
   "cell_type": "markdown",
   "id": "60ca98df",
   "metadata": {},
   "source": [
    "## 2.2 Stochastic Block Model"
   ]
  },
  {
   "cell_type": "markdown",
   "id": "5e44a999",
   "metadata": {},
   "source": [
    "### 2.2.1 Averaging over endpoints of an edge"
   ]
  },
  {
   "cell_type": "code",
   "execution_count": 23,
   "id": "ea100c5e",
   "metadata": {},
   "outputs": [
    {
     "data": {
      "text/plain": [
       "[np.float64(-0.13755167174053654),\n",
       " np.float64(-0.1499981808809857),\n",
       " np.float64(0.3272994984370074),\n",
       " np.float64(0.08446331242160186),\n",
       " np.float64(-0.07324796890656135),\n",
       " np.float64(-0.12130685173006327),\n",
       " np.float64(0.03630191433754856),\n",
       " np.float64(0.31549648596386703),\n",
       " np.float64(0.12134056252176169),\n",
       " np.float64(-0.08828134575419101)]"
      ]
     },
     "execution_count": 23,
     "metadata": {},
     "output_type": "execute_result"
    }
   ],
   "source": [
    "N, n, q = 10, 10, 0.5\n",
    "compare_edge_average(N=N,n=n, q=q, graph_type=\"SBM\")"
   ]
  },
  {
   "cell_type": "code",
   "execution_count": 25,
   "id": "215617c1",
   "metadata": {},
   "outputs": [
    {
     "data": {
      "text/plain": [
       "[np.float64(-0.09206891895571054),\n",
       " np.float64(0.003174736051708711),\n",
       " np.float64(-0.146496461087123),\n",
       " np.float64(-0.01239840774326784),\n",
       " np.float64(-0.0236658686310113),\n",
       " np.float64(0.016045269674060048),\n",
       " np.float64(-0.07686532725312686),\n",
       " np.float64(0.0034397309330155444),\n",
       " np.float64(0.01579259519527125),\n",
       " np.float64(0.04968368834711373)]"
      ]
     },
     "execution_count": 25,
     "metadata": {},
     "output_type": "execute_result"
    }
   ],
   "source": [
    "N, n, q = 10, 20, 0.5\n",
    "compare_edge_average(N=N,n=n, q=q, graph_type=\"SBM\")"
   ]
  },
  {
   "cell_type": "code",
   "execution_count": 26,
   "id": "85261180",
   "metadata": {},
   "outputs": [
    {
     "data": {
      "text/plain": [
       "[np.float64(0.018982970734347626),\n",
       " np.float64(0.1292602195486992),\n",
       " np.float64(0.060354629979536244),\n",
       " np.float64(-0.022925527848260158),\n",
       " np.float64(0.048034295953044516),\n",
       " np.float64(-0.04165978107709378),\n",
       " np.float64(0.028129424551721575),\n",
       " np.float64(0.007470986560147736),\n",
       " np.float64(-0.011320379735577223),\n",
       " np.float64(0.06316334548859737)]"
      ]
     },
     "execution_count": 26,
     "metadata": {},
     "output_type": "execute_result"
    }
   ],
   "source": [
    "N, n, q = 10, 10, 0.6\n",
    "compare_edge_average(N=N,n=n, q=q, graph_type=\"SBM\")"
   ]
  },
  {
   "cell_type": "code",
   "execution_count": 27,
   "id": "3fd24513",
   "metadata": {},
   "outputs": [
    {
     "data": {
      "text/plain": [
       "[np.float64(-0.10718786445609414),\n",
       " np.float64(0.0480782783651642),\n",
       " np.float64(-0.008899415750658337),\n",
       " np.float64(-0.04199886662546869),\n",
       " np.float64(-0.03172561624098056),\n",
       " np.float64(-0.04213495436532236),\n",
       " np.float64(-0.07893188704221943),\n",
       " np.float64(-0.027276627347791012),\n",
       " np.float64(-0.06890007433167385),\n",
       " np.float64(-0.10924012168007755)]"
      ]
     },
     "execution_count": 27,
     "metadata": {},
     "output_type": "execute_result"
    }
   ],
   "source": [
    "N, n, q = 10, 20, 0.6\n",
    "compare_edge_average(N=N,n=n, q=q, graph_type=\"SBM\")"
   ]
  },
  {
   "cell_type": "code",
   "execution_count": 28,
   "id": "aa7619b1",
   "metadata": {},
   "outputs": [
    {
     "data": {
      "text/plain": [
       "[np.float64(0.2579956539715587),\n",
       " np.float64(0.21177646239713718),\n",
       " np.float64(0.07976196720970614),\n",
       " np.float64(-0.22384384675150457),\n",
       " np.float64(-0.1590322314242136),\n",
       " np.float64(0.1152341302747495),\n",
       " np.float64(0.16970615215316578),\n",
       " np.float64(-0.034091929743466476),\n",
       " np.float64(-0.03625600961158292),\n",
       " np.float64(-0.12419296439112583)]"
      ]
     },
     "execution_count": 28,
     "metadata": {},
     "output_type": "execute_result"
    }
   ],
   "source": [
    "N, n, q = 10, 10, 0.7\n",
    "compare_edge_average(N=N,n=n, q=q, graph_type=\"SBM\")"
   ]
  },
  {
   "cell_type": "code",
   "execution_count": 29,
   "id": "9372fc4c",
   "metadata": {},
   "outputs": [
    {
     "data": {
      "text/plain": [
       "[np.float64(-0.05079266866618666),\n",
       " np.float64(0.04607927424878572),\n",
       " np.float64(0.08406955200990913),\n",
       " np.float64(0.01614548540408267),\n",
       " np.float64(0.10985991424184562),\n",
       " np.float64(0.020071441395699642),\n",
       " np.float64(-0.05255479884615174),\n",
       " np.float64(0.029726609653588764),\n",
       " np.float64(-0.055527950879827793),\n",
       " np.float64(-0.05311284909275107)]"
      ]
     },
     "execution_count": 29,
     "metadata": {},
     "output_type": "execute_result"
    }
   ],
   "source": [
    "N, n, q = 10, 20, 0.7\n",
    "compare_edge_average(N=N,n=n, q=q, graph_type=\"SBM\")"
   ]
  },
  {
   "cell_type": "markdown",
   "id": "dd2e8d0c",
   "metadata": {},
   "source": [
    "### 2.2.2 Averaging over adjacent edges"
   ]
  },
  {
   "cell_type": "code",
   "execution_count": 39,
   "id": "b6bd43bd",
   "metadata": {},
   "outputs": [
    {
     "data": {
      "text/plain": [
       "[np.float64(-0.0345334652520673),\n",
       " np.float64(-0.15164652502781586),\n",
       " np.float64(-0.05891144141221785),\n",
       " np.float64(0.23009569455475642),\n",
       " np.float64(-0.003903195762633368),\n",
       " np.float64(0.16105521736728606),\n",
       " np.float64(0.08826600620281921),\n",
       " np.float64(0.057887835310966695),\n",
       " np.float64(-0.04385809892779745),\n",
       " np.float64(0.02351860804850683)]"
      ]
     },
     "execution_count": 39,
     "metadata": {},
     "output_type": "execute_result"
    }
   ],
   "source": [
    "N, n, q = 10, 10, 0.5\n",
    "compare_vertex_average(N=N,n=n, q=q, graph_type=\"SBM\")"
   ]
  },
  {
   "cell_type": "code",
   "execution_count": 40,
   "id": "addcbdfd",
   "metadata": {},
   "outputs": [
    {
     "data": {
      "text/plain": [
       "[np.float64(-0.013990818539368973),\n",
       " np.float64(0.05871740125994926),\n",
       " np.float64(0.02308468248458623),\n",
       " np.float64(-0.09136588017394723),\n",
       " np.float64(-0.027299027608323437),\n",
       " np.float64(-0.048002941884048564),\n",
       " np.float64(-0.03733369097249866),\n",
       " np.float64(0.015396864145577262),\n",
       " np.float64(-0.02950168007946056),\n",
       " np.float64(-0.051038562953612816)]"
      ]
     },
     "execution_count": 40,
     "metadata": {},
     "output_type": "execute_result"
    }
   ],
   "source": [
    "N, n, q = 10, 20, 0.5\n",
    "compare_vertex_average(N=N,n=n, q=q, graph_type=\"SBM\")"
   ]
  },
  {
   "cell_type": "code",
   "execution_count": 41,
   "id": "b4d64fe9",
   "metadata": {},
   "outputs": [
    {
     "data": {
      "text/plain": [
       "[np.float64(0.008309035922840588),\n",
       " np.float64(-0.19856814786911206),\n",
       " np.float64(-0.05199799265073157),\n",
       " np.float64(0.03306889860686014),\n",
       " np.float64(-0.1074065736204085),\n",
       " np.float64(-0.006654432588058),\n",
       " np.float64(0.0590114129643169),\n",
       " np.float64(0.10410292392849123),\n",
       " np.float64(0.053652493923895594),\n",
       " np.float64(0.13434956199723155)]"
      ]
     },
     "execution_count": 41,
     "metadata": {},
     "output_type": "execute_result"
    }
   ],
   "source": [
    "N, n, q = 10, 10, 0.6\n",
    "compare_vertex_average(N=N,n=n, q=q, graph_type=\"SBM\")"
   ]
  },
  {
   "cell_type": "code",
   "execution_count": 42,
   "id": "b116d034",
   "metadata": {},
   "outputs": [
    {
     "data": {
      "text/plain": [
       "[np.float64(-0.06080393097876494),\n",
       " np.float64(-0.033591695850374866),\n",
       " np.float64(0.00799419362616527),\n",
       " np.float64(-0.045203493802938116),\n",
       " np.float64(0.01390927683129376),\n",
       " np.float64(0.05339525102718789),\n",
       " np.float64(0.018481513862311692),\n",
       " np.float64(-0.02494405284430053),\n",
       " np.float64(0.033674217575319854),\n",
       " np.float64(-0.02328599231716089)]"
      ]
     },
     "execution_count": 42,
     "metadata": {},
     "output_type": "execute_result"
    }
   ],
   "source": [
    "N, n, q = 10, 20, 0.6\n",
    "compare_vertex_average(N=N,n=n, q=q, graph_type=\"SBM\")"
   ]
  },
  {
   "cell_type": "code",
   "execution_count": 43,
   "id": "ac8f710c",
   "metadata": {},
   "outputs": [
    {
     "data": {
      "text/plain": [
       "[np.float64(0.05213626485152853),\n",
       " np.float64(0.21036486335304172),\n",
       " np.float64(-0.08148316985472753),\n",
       " np.float64(0.053509059452555026),\n",
       " np.float64(0.1408766786549414),\n",
       " np.float64(0.25330945908402186),\n",
       " np.float64(0.13766905662762643),\n",
       " np.float64(-0.04373247511082715),\n",
       " np.float64(0.09286662180230296),\n",
       " np.float64(-0.04500681589682902)]"
      ]
     },
     "execution_count": 43,
     "metadata": {},
     "output_type": "execute_result"
    }
   ],
   "source": [
    "N, n, q = 10, 10, 0.7\n",
    "compare_vertex_average(N=N,n=n, q=q, graph_type=\"SBM\")"
   ]
  },
  {
   "cell_type": "code",
   "execution_count": 44,
   "id": "957edc62",
   "metadata": {},
   "outputs": [
    {
     "data": {
      "text/plain": [
       "[np.float64(-0.01642519632406146),\n",
       " np.float64(0.03496110547989419),\n",
       " np.float64(0.0027435470153477654),\n",
       " np.float64(-0.0723932359239505),\n",
       " np.float64(0.01564773049862514),\n",
       " np.float64(0.010271408750529318),\n",
       " np.float64(0.010381089230583288),\n",
       " np.float64(-0.028655827462510226),\n",
       " np.float64(-0.014641567877282508),\n",
       " np.float64(0.006245031487145806)]"
      ]
     },
     "execution_count": 44,
     "metadata": {},
     "output_type": "execute_result"
    }
   ],
   "source": [
    "N, n, q = 10, 20, 0.7\n",
    "compare_vertex_average(N=N,n=n, q=q, graph_type=\"SBM\")"
   ]
  },
  {
   "cell_type": "markdown",
   "id": "79585f17",
   "metadata": {},
   "source": [
    "## 3. Testing conjecture\n",
    "\n",
    "We conjecture that for edges with equal Lin-Lu-Yau curvature, the Steinerberger curvature of the endpoints must coincide. Such graphs exist:"
   ]
  },
  {
   "cell_type": "code",
   "execution_count": 45,
   "id": "d36ff5bf",
   "metadata": {},
   "outputs": [],
   "source": [
    "def find_keys_with_same_values(d):\n",
    "    # Invert the dictionary: map value -> list of keys having that value\n",
    "    value_to_keys = {}\n",
    "    for key, value in d.items():\n",
    "        value_to_keys.setdefault(value, []).append(key)\n",
    "    \n",
    "    # Filter only those values that have more than one key corresponding to the value\n",
    "    result = [keys for keys in value_to_keys.values() if len(keys) > 1]\n",
    "    return result\n"
   ]
  },
  {
   "cell_type": "markdown",
   "id": "379385c6",
   "metadata": {},
   "source": [
    "### 3.1 Block graph"
   ]
  },
  {
   "cell_type": "code",
   "execution_count": 46,
   "id": "b5eae3a0",
   "metadata": {},
   "outputs": [
    {
     "data": {
      "image/png": "[encoded data removed]",
      "text/plain": [
       "<Figure size 640x480 with 1 Axes>"
      ]
     },
     "metadata": {},
     "output_type": "display_data"
    }
   ],
   "source": [
    "G1 = nx.complete_graph(4)\n",
    "G1 = nx.relabel_nodes(G1, mapping={0:5, 1:6, 2:7, 3: 8})\n",
    "G2 = nx.complete_graph(5)\n",
    "G = nx.union(G1, G2)\n",
    "G.add_edges_from([(0,5), (1, 9), (9,10), (10,1)])\n",
    "nx.draw(G)\n"
   ]
  },
  {
   "cell_type": "code",
   "execution_count": 48,
   "id": "70571e34",
   "metadata": {},
   "outputs": [
    {
     "name": "stdout",
     "output_type": "stream",
     "text": [
      "{(5, 6): 0.833, (5, 7): 0.833, (5, 8): 0.833, (5, 0): -1.1, (6, 7): 1.333, (6, 8): 1.333, (7, 8): 1.333, (0, 1): 0.333, (0, 2): 0.85, (0, 3): 0.85, (0, 4): 0.85, (1, 2): 0.583, (1, 3): 0.583, (1, 4): 0.583, (1, 9): 0.167, (1, 10): 0.167, (2, 3): 1.25, (2, 4): 1.25, (3, 4): 1.25, (9, 10): 1.5}\n",
      "[[(5, 6), (5, 7), (5, 8)], [(6, 7), (6, 8), (7, 8)], [(0, 2), (0, 3), (0, 4)], [(1, 2), (1, 3), (1, 4)], [(1, 9), (1, 10)], [(2, 3), (2, 4), (3, 4)]]\n",
      "[-1.21472393 -1.88957055  0.80981595  0.80981595  0.80981595 -1.01226994\n",
      "  1.01226994  1.01226994  1.01226994  1.34969325  1.34969325]\n",
      "Passt\n",
      "Passt\n",
      "Passt\n",
      "Passt\n",
      "Passt\n",
      "Passt\n",
      "Passt\n",
      "Passt\n",
      "Passt\n",
      "Passt\n",
      "Passt\n",
      "Passt\n",
      "Passt\n",
      "Passt\n",
      "Passt\n",
      "Passt\n"
     ]
    }
   ],
   "source": [
    "llyCurv = lly_curvature(G, double_edges=False)\n",
    "steinerbergerCurv = steinerbergerCurvature(G)\n",
    "edges_with_equal_lly_curv = find_keys_with_same_values(llyCurv)\n",
    "\n",
    "print(llyCurv)\n",
    "print(edges_with_equal_lly_curv)\n",
    "print(steinerbergerCurv)\n",
    "\n",
    "for edge_list in edges_with_equal_lly_curv:\n",
    "    for i in range(len(edge_list)):\n",
    "        for j in range(i+1, len(edge_list)):\n",
    "            if (round(steinerbergerCurv[edge_list[i][0]],3) == round(steinerbergerCurv[edge_list[j][0]],3)) and (round(steinerbergerCurv[edge_list[i][1]],3) == round(steinerbergerCurv[edge_list[j][1]],3)):\n",
    "                print(\"Passt\")\n",
    "            elif (round(steinerbergerCurv[edge_list[i][0]],3) == round(steinerbergerCurv[edge_list[j][1]],3)) and (round(steinerbergerCurv[edge_list[i][1]],3) == round(steinerbergerCurv[edge_list[j][0]],3)):\n",
    "                print(\"Passt\")\n",
    "            else:\n",
    "                print(\"Passt it\")"
   ]
  },
  {
   "cell_type": "code",
   "execution_count": 50,
   "id": "d5328842",
   "metadata": {},
   "outputs": [
    {
     "name": "stdout",
     "output_type": "stream",
     "text": [
      "0.8151726557342973\n"
     ]
    }
   ],
   "source": [
    "llyCurv = lly_curvature(G)\n",
    "steinerbergerCurv = steinerbergerCurvature(G)\n",
    "avg_steinerberger_curv = []\n",
    "llyCurvList = []\n",
    "edges_covered = []\n",
    "for edge in llyCurv.keys():\n",
    "    if not edge in edges_covered:\n",
    "        average_steinerberger_curv = 0.5*(steinerbergerCurv[edge[0]] + steinerbergerCurv[edge[1]])\n",
    "        avg_steinerberger_curv.append(average_steinerberger_curv)\n",
    "        llyCurvList.append(llyCurv[edge])\n",
    "        edges_covered.append((edge[1], edge[0]))\n",
    "\n",
    "r, p = pearsonr(llyCurvList, avg_steinerberger_curv)\n",
    "print(r)"
   ]
  },
  {
   "cell_type": "markdown",
   "id": "9ef818cf",
   "metadata": {},
   "source": [
    "## 3.1 Testing on random graphs\n",
    "\n",
    "On random graphs, we don't get this kind of behaviour."
   ]
  },
  {
   "cell_type": "code",
   "execution_count": 60,
   "id": "753cfdb5",
   "metadata": {},
   "outputs": [
    {
     "name": "stdout",
     "output_type": "stream",
     "text": [
      "{(0, 3): 0.667, (0, 5): 0.583, (0, 7): 0.5, (0, 8): 0.75, (1, 2): 0.8, (1, 4): 0.55, (1, 5): 0.333, (1, 6): 0.633, (1, 9): 0.95, (2, 3): 0.367, (2, 5): 0.733, (2, 8): 0.55, (2, 9): 0.55, (3, 4): 0.5, (3, 5): 0.667, (3, 6): 0.667, (3, 7): 0.75, (4, 7): 0.5, (4, 9): 0.75, (5, 6): 0.833, (5, 8): 0.833, (6, 7): 0.5, (6, 8): 0.5, (6, 9): 0.5}\n",
      "[[(0, 3), (3, 5), (3, 6)], [(0, 7), (3, 4), (4, 7), (6, 7), (6, 8), (6, 9)], [(0, 8), (3, 7), (4, 9)], [(1, 4), (2, 8), (2, 9)], [(5, 6), (5, 8)]]\n",
      "[ 1.66666667e+00 -1.77635684e-15  2.66453526e-15  0.00000000e+00\n",
      "  1.66666667e+00 -7.10542736e-15  1.77635684e-15  0.00000000e+00\n",
      "  1.66666667e+00  1.66666667e+00]\n",
      "Passt it\n",
      "Passt it\n",
      "Passt\n",
      "Passt\n",
      "Passt\n",
      "Passt it\n",
      "Passt\n",
      "Passt\n",
      "Passt\n",
      "Passt it\n",
      "Passt\n",
      "Passt\n",
      "Passt it\n",
      "Passt\n",
      "Passt\n",
      "Passt it\n",
      "Passt it\n",
      "Passt\n",
      "Passt it\n",
      "Passt\n",
      "Passt it\n",
      "Passt\n",
      "Passt\n",
      "Passt\n",
      "Passt it\n"
     ]
    }
   ],
   "source": [
    "G=nx.erdos_renyi_graph(n=10, p=0.5)\n",
    "llyCurv = lly_curvature(G, double_edges=False)\n",
    "steinerbergerCurv = steinerbergerCurvature(G)\n",
    "edges_with_equal_lly_curv = find_keys_with_same_values(llyCurv)\n",
    "\n",
    "print(llyCurv)\n",
    "print(edges_with_equal_lly_curv)\n",
    "print(steinerbergerCurv)\n",
    "\n",
    "for edge_list in edges_with_equal_lly_curv:\n",
    "    for i in range(len(edge_list)):\n",
    "        for j in range(i+1, len(edge_list)):\n",
    "            if (round(steinerbergerCurv[edge_list[i][0]],3) == round(steinerbergerCurv[edge_list[j][0]],3)) and (round(steinerbergerCurv[edge_list[i][1]],3) == round(steinerbergerCurv[edge_list[j][1]],3)):\n",
    "                print(\"Passt\")\n",
    "            elif (round(steinerbergerCurv[edge_list[i][0]],3) == round(steinerbergerCurv[edge_list[j][1]],3)) and (round(steinerbergerCurv[edge_list[i][1]],3) == round(steinerbergerCurv[edge_list[j][0]],3)):\n",
    "                print(\"Passt\")\n",
    "            else:\n",
    "                print(\"Passt it\")\n",
    "            \"\"\"    \n",
    "            if round(steinerbergerCurv[edge_list[i][0]],3) + round(steinerbergerCurv[edge_list[i][1]],3) == round(steinerbergerCurv[edge_list[j][0]],3) + round(steinerbergerCurv[edge_list[j][1]],3):\n",
    "                print(\"Passt\")\n",
    "            else:\n",
    "                print(\"Passt it\")\"\"\""
   ]
  },
  {
   "cell_type": "markdown",
   "id": "71bbf38e",
   "metadata": {},
   "source": [
    "# 4. Sparse Graphs"
   ]
  },
  {
   "cell_type": "code",
   "execution_count": 37,
   "id": "84072dfd",
   "metadata": {},
   "outputs": [
    {
     "data": {
      "text/plain": [
       "[np.float64(0.9429134920075277),\n",
       " np.float64(0.9552616324276388),\n",
       " np.float64(0.9338436971304684),\n",
       " np.float64(0.9596683017562295),\n",
       " np.float64(0.8910601791746605),\n",
       " np.float64(0.9756097560975611),\n",
       " np.float64(0.06787408420641337),\n",
       " np.float64(0.8104122414702124),\n",
       " np.float64(0.7952247696531709),\n",
       " np.float64(0.8537754123406068)]"
      ]
     },
     "execution_count": 37,
     "metadata": {},
     "output_type": "execute_result"
    }
   ],
   "source": [
    "compare_edge_average(N=10,n=10,q=0.1)"
   ]
  },
  {
   "cell_type": "code",
   "execution_count": 38,
   "id": "96f3c268",
   "metadata": {},
   "outputs": [
    {
     "data": {
      "text/plain": [
       "[np.float64(0.7246694306265556),\n",
       " np.float64(0.8132043387904171),\n",
       " np.float64(0.8343992373580351),\n",
       " np.float64(0.7912784788632773),\n",
       " np.float64(0.7946834596418182),\n",
       " np.float64(0.6783728320148059),\n",
       " np.float64(0.6503497185996363),\n",
       " np.float64(0.8524413231358554),\n",
       " np.float64(0.8920448295320594),\n",
       " np.float64(0.6966997285607963)]"
      ]
     },
     "execution_count": 38,
     "metadata": {},
     "output_type": "execute_result"
    }
   ],
   "source": [
    "compare_vertex_average(N=10,n=10,q=0.1)"
   ]
  },
  {
   "cell_type": "code",
   "execution_count": 49,
   "id": "347ea588",
   "metadata": {},
   "outputs": [
    {
     "data": {
      "text/plain": [
       "[np.float64(0.2213817663825312),\n",
       " np.float64(0.49473238891033355),\n",
       " np.float64(0.7414128671175124),\n",
       " np.float64(0.7924532537393257),\n",
       " np.float64(0.23080174869004821),\n",
       " np.float64(0.2402679098710214),\n",
       " np.float64(0.2934103747637847),\n",
       " np.float64(0.7749490455773594),\n",
       " np.float64(0.7821010207637881),\n",
       " np.float64(0.797587164773813)]"
      ]
     },
     "execution_count": 49,
     "metadata": {},
     "output_type": "execute_result"
    }
   ],
   "source": [
    "compare_edge_average(N=10,n=20,q=0.1)"
   ]
  },
  {
   "cell_type": "code",
   "execution_count": 50,
   "id": "7991b0c7",
   "metadata": {},
   "outputs": [
    {
     "data": {
      "text/plain": [
       "[np.float64(0.5880724377742573),\n",
       " np.float64(0.7162348909448307),\n",
       " np.float64(-0.04933593231653038),\n",
       " np.float64(0.878348949493482),\n",
       " np.float64(0.7745819791559566),\n",
       " np.float64(0.2941604918789847),\n",
       " np.float64(0.6357769012409427),\n",
       " np.float64(0.1249351847234451),\n",
       " np.float64(0.6232516376947462),\n",
       " np.float64(0.4434625182783527)]"
      ]
     },
     "execution_count": 50,
     "metadata": {},
     "output_type": "execute_result"
    }
   ],
   "source": [
    "compare_vertex_average(N=10,n=20,q=0.1)"
   ]
  },
  {
   "cell_type": "code",
   "execution_count": 51,
   "id": "ae532366",
   "metadata": {},
   "outputs": [
    {
     "data": {
      "text/plain": [
       "[np.float64(0.10547985988846818),\n",
       " np.float64(-0.04959421373675338),\n",
       " np.float64(0.014137350217036725),\n",
       " np.float64(0.276640182849615),\n",
       " np.float64(0.04695560626682936),\n",
       " np.float64(0.11755615498916422),\n",
       " np.float64(0.3186860997271221),\n",
       " np.float64(0.1450858169735496),\n",
       " np.float64(0.20016259946936382),\n",
       " np.float64(0.003852122463566851)]"
      ]
     },
     "execution_count": 51,
     "metadata": {},
     "output_type": "execute_result"
    }
   ],
   "source": [
    "compare_edge_average(10, 100, 0.03)"
   ]
  },
  {
   "cell_type": "code",
   "execution_count": 52,
   "id": "19588fbc",
   "metadata": {},
   "outputs": [
    {
     "data": {
      "text/plain": [
       "[np.float64(0.06968550613521306),\n",
       " np.float64(0.30792565197727445),\n",
       " np.float64(0.3201268583096897),\n",
       " np.float64(0.20730377176107356),\n",
       " np.float64(0.10163987995060295),\n",
       " np.float64(0.14427366362368166),\n",
       " np.float64(0.09801289636151221),\n",
       " np.float64(0.04380208206108041),\n",
       " np.float64(0.0816137607603444),\n",
       " np.float64(0.10598420051227957)]"
      ]
     },
     "execution_count": 52,
     "metadata": {},
     "output_type": "execute_result"
    }
   ],
   "source": [
    "compare_vertex_average(10, 100, 0.03)"
   ]
  }
 ],
 "metadata": {
  "kernelspec": {
   "display_name": ".venv",
   "language": "python",
   "name": "python3"
  },
  "language_info": {
   "codemirror_mode": {
    "name": "ipython",
    "version": 3
   },
   "file_extension": ".py",
   "mimetype": "text/x-python",
   "name": "python",
   "nbconvert_exporter": "python",
   "pygments_lexer": "ipython3",
   "version": "3.13.3"
  }
 },
 "nbformat": 4,
 "nbformat_minor": 5
}
