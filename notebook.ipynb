{
 "cells": [
  {
   "cell_type": "markdown",
   "id": "244f98a0",
   "metadata": {},
   "source": [
    "# 1. Setup  \n",
    "\n",
    "Attention: Nodes of the graph must be labeled 0,...,|V|-1 for the code to work!"
   ]
  },
  {
   "cell_type": "code",
   "execution_count": 1,
   "id": "b4087c90",
   "metadata": {},
   "outputs": [],
   "source": [
    "import networkx as nx\n",
    "from scipy.stats import pearsonr\n",
    "\n",
    "from curvatures import steinerbergerCurvature, lly_curvature"
   ]
  },
  {
   "cell_type": "markdown",
   "id": "dfd03134",
   "metadata": {},
   "source": [
    "# 2. Comparison between curvatures\n",
    "\n",
    "We compare the values of the Steinerberger curvature and the Lin-Lu-Yau curvature on different random graphs"
   ]
  },
  {
   "cell_type": "code",
   "execution_count": 44,
   "id": "8be2a6e0",
   "metadata": {},
   "outputs": [],
   "source": [
    "def compare_edge_average(N,n,q, graph_type=\"ER\"):\n",
    "    \"\"\"Compare the Steinerberger curvature to the Lin-Lu-Yau curvature by averaging the Steinerberger curvature of the two endpoints of an edge\n",
    "\n",
    "    Args:\n",
    "        N (int): Number of graphs\n",
    "        n (int): Number of vertices in the Erdos-Renyi graph\n",
    "        q (float): Probability for edge creation\n",
    "        graph_type (str): Type of Random graph\n",
    "    \"\"\"\n",
    "    pearson_correlation = []\n",
    "    for _ in range(N):\n",
    "        if graph_type == \"ER\":\n",
    "            G=nx.erdos_renyi_graph(n=n, p=q)\n",
    "        elif graph_type == \"SBM\": \n",
    "            G = nx.stochastic_block_model(sizes=[n,n,n], p=[[q, 0.1, 0.1], [0.1, q, 0.1], [0.1, 0.1, q]])\n",
    "        else:\n",
    "            raise TypeError(\"Graph type not supported\")\n",
    "        while not nx.is_connected(G):\n",
    "            if graph_type == \"ER\":\n",
    "                G=nx.erdos_renyi_graph(n=n, p=q)\n",
    "            elif graph_type == \"SBM\": \n",
    "                G = nx.stochastic_block_model(sizes=[n,n,n], p=[[q, 0.1, 0.1], [0.1, q, 0.1], [0.1, 0.1, q]])\n",
    "            else:\n",
    "                raise TypeError(\"Graph type not supported\")\n",
    "            print(\"Disconnected Graph encountered\")\n",
    "\n",
    "        llyCurv = lly_curvature(G)\n",
    "        steinerbergerCurv = steinerbergerCurvature(G)\n",
    "        avg_steinerberger_curv = []\n",
    "        llyCurvList = []\n",
    "        edges_covered = []\n",
    "        for edge in llyCurv.keys():\n",
    "            if not edge in edges_covered:\n",
    "                average_steinerberger_curv = 0.5*(steinerbergerCurv[edge[0]] + steinerbergerCurv[edge[1]])\n",
    "                avg_steinerberger_curv.append(average_steinerberger_curv)\n",
    "                llyCurvList.append(llyCurv[edge])\n",
    "                edges_covered.append((edge[1], edge[0]))\n",
    "       \n",
    "        r, p = pearsonr(llyCurvList, avg_steinerberger_curv)\n",
    "        \n",
    "        pearson_correlation.append(r)\n",
    "    return pearson_correlation"
   ]
  },
  {
   "cell_type": "code",
   "execution_count": 55,
   "id": "28984050",
   "metadata": {},
   "outputs": [],
   "source": [
    "def compare_vertex_average(N,n,q, graph_type=\"ER\"):\n",
    "    \"\"\"Compare the Steinerberger curvature to the Lin-Lu-Yau curvature by averaging the Lin-Lu-Yau curvature of all edges adjacent to a given vertex\n",
    "\n",
    "    Args:\n",
    "        N (int): Number of graphs\n",
    "        n (int): NUmber of vertices in the Erdos-Renyi graph\n",
    "        q (float): Probability of edge creation\n",
    "    \"\"\"\n",
    "    pearson_correlation = []\n",
    "    for _ in range(N):\n",
    "        if graph_type == \"ER\":\n",
    "            G=nx.erdos_renyi_graph(n=n, p=q)\n",
    "        elif graph_type == \"SBM\": \n",
    "            G = nx.stochastic_block_model(sizes=[n,n,n], p=[[q, 0.1, 0.1], [0.1, q, 0.1], [0.1, 0.1, q]])\n",
    "        else:\n",
    "            raise TypeError(\"Graph type not supported\")\n",
    "        while not nx.is_connected(G):\n",
    "            if graph_type == \"ER\":\n",
    "                G=nx.erdos_renyi_graph(n=n, p=q)\n",
    "            elif graph_type == \"SBM\": \n",
    "                G = nx.stochastic_block_model(sizes=[n,n,n], p=[[q, 0.1, 0.1], [0.1, q, 0.1], [0.1, 0.1, q]])\n",
    "            else:\n",
    "                raise TypeError(\"Graph type not supported\")\n",
    "            print(\"Disconnected Graph encountered\")\n",
    "            \n",
    "        llyCurv = lly_curvature(G)\n",
    "        steinerbergerCurv = steinerbergerCurvature(G)\n",
    "        llyCurv_vertex = []\n",
    "        for i in range(3*n):\n",
    "            lly_curv_average = 0\n",
    "            for j in range(n):\n",
    "                if G.has_edge(i,j):\n",
    "                    lly_curv_average += llyCurv[(i,j)]\n",
    "            lly_curv_average /= G.degree(i)\n",
    "            llyCurv_vertex.append(lly_curv_average)\n",
    "        r, p = pearsonr(llyCurv_vertex, steinerbergerCurv)   \n",
    "        pearson_correlation.append(r)\n",
    "    return pearson_correlation"
   ]
  },
  {
   "cell_type": "markdown",
   "id": "322fb3a3",
   "metadata": {},
   "source": [
    "## 2.1 Erdős–Rényi model"
   ]
  },
  {
   "cell_type": "markdown",
   "id": "9f06ee0a",
   "metadata": {},
   "source": [
    "### 2.1.1 Averaging over endpoints of an edge"
   ]
  },
  {
   "cell_type": "code",
   "execution_count": 27,
   "id": "6ea67da4",
   "metadata": {},
   "outputs": [
    {
     "data": {
      "text/plain": [
       "[np.float64(-0.28401328516578284),\n",
       " np.float64(0.035342924233580354),\n",
       " np.float64(-0.14907202563632632),\n",
       " np.float64(-0.0969010530429489),\n",
       " np.float64(0.3875771366000176),\n",
       " np.float64(-0.22510377958082023),\n",
       " np.float64(-0.1341956041068989),\n",
       " np.float64(0.10541542576660608),\n",
       " np.float64(0.14765144409198744),\n",
       " np.float64(-0.19219267353310954)]"
      ]
     },
     "execution_count": 27,
     "metadata": {},
     "output_type": "execute_result"
    }
   ],
   "source": [
    "N, n, q = 10, 10, 0.5\n",
    "compare_edge_average(N=N,n=n, q=q)"
   ]
  },
  {
   "cell_type": "code",
   "execution_count": 28,
   "id": "889c795f",
   "metadata": {},
   "outputs": [
    {
     "data": {
      "text/plain": [
       "[np.float64(0.1529937945678091),\n",
       " np.float64(0.3937358352218485),\n",
       " np.float64(-0.33235125264272675),\n",
       " np.float64(-0.0920311067332094),\n",
       " np.float64(-0.01065009923464083),\n",
       " np.float64(-0.0991897168602881),\n",
       " np.float64(-0.2050748246337973),\n",
       " np.float64(-0.026831029462998517),\n",
       " np.float64(0.5301814976287279),\n",
       " np.float64(0.0926402123682358)]"
      ]
     },
     "execution_count": 28,
     "metadata": {},
     "output_type": "execute_result"
    }
   ],
   "source": [
    "N, n, q = 10, 10, 0.6\n",
    "compare_edge_average(N=N,n=n, q=q)"
   ]
  },
  {
   "cell_type": "code",
   "execution_count": 32,
   "id": "1ef385fc",
   "metadata": {},
   "outputs": [
    {
     "data": {
      "text/plain": [
       "[np.float64(0.08800008721441521),\n",
       " np.float64(-0.13608996186541455),\n",
       " np.float64(-0.3230558582679621),\n",
       " np.float64(0.03842331654766546),\n",
       " np.float64(-0.0877654531015734),\n",
       " np.float64(-0.20051675241311145),\n",
       " np.float64(-0.13741476836841274),\n",
       " np.float64(-0.3708404177860227),\n",
       " np.float64(-0.295253202335803),\n",
       " np.float64(-0.11681644473930942)]"
      ]
     },
     "execution_count": 32,
     "metadata": {},
     "output_type": "execute_result"
    }
   ],
   "source": [
    "N, n, q = 10, 10, 0.7\n",
    "compare_edge_average(N=N,n=n, q=q)"
   ]
  },
  {
   "cell_type": "code",
   "execution_count": 33,
   "id": "39bd208c",
   "metadata": {},
   "outputs": [
    {
     "data": {
      "text/plain": [
       "[np.float64(-0.02522253333024733),\n",
       " np.float64(0.06351328666755786),\n",
       " np.float64(-0.09723934200030288),\n",
       " np.float64(-0.07160042916069254),\n",
       " np.float64(-0.011183284257226436),\n",
       " np.float64(0.0067070220845927425),\n",
       " np.float64(-0.035365353908320456),\n",
       " np.float64(-0.12366880028837066),\n",
       " np.float64(-0.0028055847565299163),\n",
       " np.float64(-0.08372218687848566)]"
      ]
     },
     "execution_count": 33,
     "metadata": {},
     "output_type": "execute_result"
    }
   ],
   "source": [
    "N, n, q = 10, 20, 0.5\n",
    "compare_edge_average(N=N,n=n, q=q)"
   ]
  },
  {
   "cell_type": "code",
   "execution_count": 34,
   "id": "ef9ece3c",
   "metadata": {},
   "outputs": [
    {
     "data": {
      "text/plain": [
       "[np.float64(-0.06197655318224878),\n",
       " np.float64(-0.01649915375126754),\n",
       " np.float64(-0.12853801130616369),\n",
       " np.float64(-0.07857647330559923),\n",
       " np.float64(-0.1453737344371118),\n",
       " np.float64(-0.3167959595506291),\n",
       " np.float64(0.14748960070766895),\n",
       " np.float64(-0.2093686322637972),\n",
       " np.float64(-0.3345321316897185),\n",
       " np.float64(-0.3652060383115959)]"
      ]
     },
     "execution_count": 34,
     "metadata": {},
     "output_type": "execute_result"
    }
   ],
   "source": [
    "N, n, q = 10, 20, 0.6\n",
    "compare_edge_average(N=N,n=n, q=q)"
   ]
  },
  {
   "cell_type": "code",
   "execution_count": 35,
   "id": "8e1ccd7b",
   "metadata": {},
   "outputs": [
    {
     "data": {
      "text/plain": [
       "[np.float64(-0.14739137929018856),\n",
       " np.float64(-0.13726818648837996),\n",
       " np.float64(0.1532923844156323),\n",
       " np.float64(0.0795212473880817),\n",
       " np.float64(-0.2154242607342918),\n",
       " np.float64(-0.10129007303946329),\n",
       " np.float64(0.054592948609580985),\n",
       " np.float64(-0.1326362761629549),\n",
       " np.float64(-0.03073152502786705),\n",
       " np.float64(0.02735837742744579)]"
      ]
     },
     "execution_count": 35,
     "metadata": {},
     "output_type": "execute_result"
    }
   ],
   "source": [
    "N, n, q = 10, 20, 0.7\n",
    "compare_edge_average(N=N,n=n, q=q)"
   ]
  },
  {
   "cell_type": "markdown",
   "id": "33395120",
   "metadata": {},
   "source": [
    "### 2.1.2 Averaging over adjacent edges"
   ]
  },
  {
   "cell_type": "code",
   "execution_count": 37,
   "id": "5572289b",
   "metadata": {},
   "outputs": [
    {
     "data": {
      "text/plain": [
       "[np.float64(-0.3042121661287296),\n",
       " np.float64(-0.030546629505154077),\n",
       " np.float64(-0.08887711976016965),\n",
       " np.float64(-0.08719733134274164),\n",
       " np.float64(-0.3378118216536678),\n",
       " np.float64(-0.037378866061059585),\n",
       " np.float64(0.36149330498907395),\n",
       " np.float64(0.10392101038978976),\n",
       " np.float64(0.1680443358050155),\n",
       " np.float64(-0.0863498832523913)]"
      ]
     },
     "execution_count": 37,
     "metadata": {},
     "output_type": "execute_result"
    }
   ],
   "source": [
    "N, n, q = 10, 10, 0.5\n",
    "compare_vertex_average(N=N,n=n, q=q)"
   ]
  },
  {
   "cell_type": "code",
   "execution_count": 38,
   "id": "3d83287f",
   "metadata": {},
   "outputs": [
    {
     "data": {
      "text/plain": [
       "[np.float64(-0.14961285317742687),\n",
       " np.float64(0.09332128806761188),\n",
       " np.float64(-0.01970195018630759),\n",
       " np.float64(-0.24635338783968236),\n",
       " np.float64(0.3344317784825069),\n",
       " np.float64(-0.14956352819041874),\n",
       " np.float64(-0.5301629728123669),\n",
       " np.float64(-0.21491555533997023),\n",
       " np.float64(-0.46393295190753703),\n",
       " np.float64(-0.17913819704335826)]"
      ]
     },
     "execution_count": 38,
     "metadata": {},
     "output_type": "execute_result"
    }
   ],
   "source": [
    "N, n, q = 10, 10, 0.6\n",
    "compare_vertex_average(N=N,n=n, q=q)"
   ]
  },
  {
   "cell_type": "code",
   "execution_count": 39,
   "id": "4a78d1ac",
   "metadata": {},
   "outputs": [
    {
     "data": {
      "text/plain": [
       "[np.float64(0.01098686565878243),\n",
       " np.float64(-0.4035749940815374),\n",
       " np.float64(-0.20071547041836682),\n",
       " np.float64(-0.5206622100933346),\n",
       " np.float64(-0.1104043168373758),\n",
       " np.float64(0.004594151306537142),\n",
       " np.float64(-0.7295737491321527),\n",
       " np.float64(-0.13577440981335903),\n",
       " np.float64(-0.13804845002081229),\n",
       " np.float64(-0.1641293892509752)]"
      ]
     },
     "execution_count": 39,
     "metadata": {},
     "output_type": "execute_result"
    }
   ],
   "source": [
    "N, n, q = 10, 10, 0.7\n",
    "compare_vertex_average(N=N,n=n, q=q)"
   ]
  },
  {
   "cell_type": "code",
   "execution_count": 16,
   "id": "beeb259c",
   "metadata": {},
   "outputs": [
    {
     "data": {
      "text/plain": [
       "[np.float64(-0.06791594703144622),\n",
       " np.float64(-0.10659390022378151),\n",
       " np.float64(0.05149975415428631),\n",
       " np.float64(-0.24728590678473755),\n",
       " np.float64(0.16700851317206497),\n",
       " np.float64(-0.1005175765926297),\n",
       " np.float64(-0.1621752977015499),\n",
       " np.float64(-0.08875255387464359),\n",
       " np.float64(-0.1836505984654909),\n",
       " np.float64(-0.13532421926960042)]"
      ]
     },
     "execution_count": 16,
     "metadata": {},
     "output_type": "execute_result"
    }
   ],
   "source": [
    "N, n, q = 10, 20, 0.5\n",
    "compare_vertex_average(N=N,n=n, q=q)"
   ]
  },
  {
   "cell_type": "code",
   "execution_count": 40,
   "id": "f5dbce0e",
   "metadata": {},
   "outputs": [
    {
     "data": {
      "text/plain": [
       "[np.float64(-0.09019916430831376),\n",
       " np.float64(-0.2365053819558247),\n",
       " np.float64(-0.2067760106687761),\n",
       " np.float64(-0.04090008795673479),\n",
       " np.float64(-0.1969591205868434),\n",
       " np.float64(-0.46924775987808914),\n",
       " np.float64(-0.29853719483983704),\n",
       " np.float64(0.166695233882371),\n",
       " np.float64(0.06705346116736999),\n",
       " np.float64(0.34840907620608463)]"
      ]
     },
     "execution_count": 40,
     "metadata": {},
     "output_type": "execute_result"
    }
   ],
   "source": [
    "N, n, q = 10, 20, 0.6\n",
    "compare_vertex_average(N=N,n=n, q=q)"
   ]
  },
  {
   "cell_type": "code",
   "execution_count": 41,
   "id": "75c0cbdc",
   "metadata": {},
   "outputs": [
    {
     "data": {
      "text/plain": [
       "[np.float64(0.1055236516093612),\n",
       " np.float64(0.10353745351949312),\n",
       " np.float64(0.23611264295743875),\n",
       " np.float64(-0.10106291221635208),\n",
       " np.float64(-0.19896497715881997),\n",
       " np.float64(0.19568103909147022),\n",
       " np.float64(0.12639624124036464),\n",
       " np.float64(-0.21768653810531563),\n",
       " np.float64(-0.16254576585768205),\n",
       " np.float64(0.0931402218229713)]"
      ]
     },
     "execution_count": 41,
     "metadata": {},
     "output_type": "execute_result"
    }
   ],
   "source": [
    "N, n, q = 10, 20, 0.7\n",
    "compare_vertex_average(N=N,n=n, q=q)"
   ]
  },
  {
   "cell_type": "markdown",
   "id": "60ca98df",
   "metadata": {},
   "source": [
    "## 2.2 Stochastic Block Model"
   ]
  },
  {
   "cell_type": "markdown",
   "id": "5e44a999",
   "metadata": {},
   "source": [
    "### 2.2.1 Averaging over endpoints of an edge"
   ]
  },
  {
   "cell_type": "code",
   "execution_count": 43,
   "id": "ea100c5e",
   "metadata": {},
   "outputs": [
    {
     "data": {
      "text/plain": [
       "[np.float64(0.06911329578858366),\n",
       " np.float64(0.07710041384257083),\n",
       " np.float64(-0.11328489449739684),\n",
       " np.float64(0.027840470838611724),\n",
       " np.float64(0.07010973022890121),\n",
       " np.float64(0.03398378225464792),\n",
       " np.float64(-0.27600812499965816),\n",
       " np.float64(0.08232390784968978),\n",
       " np.float64(0.19402456220696926),\n",
       " np.float64(0.16299445604063947)]"
      ]
     },
     "execution_count": 43,
     "metadata": {},
     "output_type": "execute_result"
    }
   ],
   "source": [
    "N, n, q = 10, 10, 0.5\n",
    "compare_edge_average(N=N,n=n, q=q, graph_type=\"SBM\")"
   ]
  },
  {
   "cell_type": "code",
   "execution_count": 47,
   "id": "215617c1",
   "metadata": {},
   "outputs": [
    {
     "data": {
      "text/plain": [
       "[np.float64(-0.0274160832175158),\n",
       " np.float64(-0.06604455728348291),\n",
       " np.float64(-0.042631868201555165),\n",
       " np.float64(-0.0688178641251013),\n",
       " np.float64(-0.06577921233842601),\n",
       " np.float64(-0.012235511690045706),\n",
       " np.float64(0.01303415046499129),\n",
       " np.float64(0.11111612332298923),\n",
       " np.float64(0.04025479547141283),\n",
       " np.float64(-0.036380435274283224)]"
      ]
     },
     "execution_count": 47,
     "metadata": {},
     "output_type": "execute_result"
    }
   ],
   "source": [
    "N, n, q = 10, 20, 0.5\n",
    "compare_edge_average(N=N,n=n, q=q, graph_type=\"SBM\")"
   ]
  },
  {
   "cell_type": "code",
   "execution_count": 48,
   "id": "85261180",
   "metadata": {},
   "outputs": [
    {
     "data": {
      "text/plain": [
       "[np.float64(0.14165807650889253),\n",
       " np.float64(-0.08217732478426479),\n",
       " np.float64(0.10006450369220797),\n",
       " np.float64(0.13294732642508567),\n",
       " np.float64(0.21690047784945043),\n",
       " np.float64(-0.00906460866582556),\n",
       " np.float64(0.0648852357670574),\n",
       " np.float64(0.1052510278933047),\n",
       " np.float64(0.3584965309864333),\n",
       " np.float64(-0.0581558100563109)]"
      ]
     },
     "execution_count": 48,
     "metadata": {},
     "output_type": "execute_result"
    }
   ],
   "source": [
    "N, n, q = 10, 10, 0.6\n",
    "compare_edge_average(N=N,n=n, q=q, graph_type=\"SBM\")"
   ]
  },
  {
   "cell_type": "code",
   "execution_count": 49,
   "id": "3fd24513",
   "metadata": {},
   "outputs": [
    {
     "data": {
      "text/plain": [
       "[np.float64(-0.02074329147628872),\n",
       " np.float64(0.07151362932584843),\n",
       " np.float64(-0.04909008017103935),\n",
       " np.float64(-0.04612281834524286),\n",
       " np.float64(-0.005308715620259065),\n",
       " np.float64(0.02333693148638334),\n",
       " np.float64(-0.0428331809934895),\n",
       " np.float64(-0.021775296059605383),\n",
       " np.float64(-0.11998897001132716),\n",
       " np.float64(-0.021878382427027276)]"
      ]
     },
     "execution_count": 49,
     "metadata": {},
     "output_type": "execute_result"
    }
   ],
   "source": [
    "N, n, q = 10, 20, 0.6\n",
    "compare_edge_average(N=N,n=n, q=q, graph_type=\"SBM\")"
   ]
  },
  {
   "cell_type": "code",
   "execution_count": 50,
   "id": "aa7619b1",
   "metadata": {},
   "outputs": [
    {
     "data": {
      "text/plain": [
       "[np.float64(0.13777298494934617),\n",
       " np.float64(-0.006504140775191769),\n",
       " np.float64(0.08191066351978316),\n",
       " np.float64(-0.16459376488461525),\n",
       " np.float64(0.040750636558008514),\n",
       " np.float64(0.11422000352805284),\n",
       " np.float64(0.09741123521204004),\n",
       " np.float64(-0.02139151527291369),\n",
       " np.float64(0.07990842663752727),\n",
       " np.float64(-0.10041428205655847)]"
      ]
     },
     "execution_count": 50,
     "metadata": {},
     "output_type": "execute_result"
    }
   ],
   "source": [
    "N, n, q = 10, 10, 0.7\n",
    "compare_edge_average(N=N,n=n, q=q, graph_type=\"SBM\")"
   ]
  },
  {
   "cell_type": "code",
   "execution_count": 51,
   "id": "9372fc4c",
   "metadata": {},
   "outputs": [
    {
     "data": {
      "text/plain": [
       "[np.float64(0.03945965801796522),\n",
       " np.float64(-0.07036874436410329),\n",
       " np.float64(0.025350520721886934),\n",
       " np.float64(-0.1110241333892052),\n",
       " np.float64(0.020625660106437245),\n",
       " np.float64(0.044269549959805296),\n",
       " np.float64(0.051512439459223854),\n",
       " np.float64(-0.01766860914468747),\n",
       " np.float64(-0.045887425158365344),\n",
       " np.float64(0.02670351886965652)]"
      ]
     },
     "execution_count": 51,
     "metadata": {},
     "output_type": "execute_result"
    }
   ],
   "source": [
    "N, n, q = 10, 20, 0.7\n",
    "compare_edge_average(N=N,n=n, q=q, graph_type=\"SBM\")"
   ]
  },
  {
   "cell_type": "markdown",
   "id": "dd2e8d0c",
   "metadata": {},
   "source": [
    "### 2.2.2 Averaging over adjacent edges"
   ]
  },
  {
   "cell_type": "code",
   "execution_count": 57,
   "id": "b6bd43bd",
   "metadata": {},
   "outputs": [
    {
     "data": {
      "text/plain": [
       "[np.float64(0.049871077393893494),\n",
       " np.float64(-0.07837872487313081),\n",
       " np.float64(0.20021030472489554),\n",
       " np.float64(-0.0059915267518259275),\n",
       " np.float64(-0.06886669134233328),\n",
       " np.float64(0.05103709369383142),\n",
       " np.float64(0.24659509220496006),\n",
       " np.float64(-0.03331393940899457),\n",
       " np.float64(0.20924512326555558),\n",
       " np.float64(-0.013886657958412825)]"
      ]
     },
     "execution_count": 57,
     "metadata": {},
     "output_type": "execute_result"
    }
   ],
   "source": [
    "N, n, q = 10, 10, 0.5\n",
    "compare_vertex_average(N=N,n=n, q=q, graph_type=\"SBM\")"
   ]
  },
  {
   "cell_type": "code",
   "execution_count": 59,
   "id": "addcbdfd",
   "metadata": {},
   "outputs": [
    {
     "data": {
      "text/plain": [
       "[np.float64(0.05047301632290588),\n",
       " np.float64(-0.02339926275741515),\n",
       " np.float64(0.010078162554335088),\n",
       " np.float64(-0.05436752117006394),\n",
       " np.float64(0.0083620030047433),\n",
       " np.float64(-0.009711730546988394),\n",
       " np.float64(-0.04816752729914743),\n",
       " np.float64(-0.027390751297072267),\n",
       " np.float64(0.04615022344111586),\n",
       " np.float64(0.04207510057488276)]"
      ]
     },
     "execution_count": 59,
     "metadata": {},
     "output_type": "execute_result"
    }
   ],
   "source": [
    "N, n, q = 10, 20, 0.5\n",
    "compare_vertex_average(N=N,n=n, q=q, graph_type=\"SBM\")"
   ]
  },
  {
   "cell_type": "code",
   "execution_count": 60,
   "id": "b4d64fe9",
   "metadata": {},
   "outputs": [
    {
     "data": {
      "text/plain": [
       "[np.float64(0.11394094534370885),\n",
       " np.float64(0.11524385277612724),\n",
       " np.float64(-0.012802579255997093),\n",
       " np.float64(0.07921310080236893),\n",
       " np.float64(-0.07461958779800724),\n",
       " np.float64(-0.06385198070282574),\n",
       " np.float64(0.181059106781172),\n",
       " np.float64(-0.1013199504132136),\n",
       " np.float64(-0.0015491146499552553),\n",
       " np.float64(-0.057766901966510735)]"
      ]
     },
     "execution_count": 60,
     "metadata": {},
     "output_type": "execute_result"
    }
   ],
   "source": [
    "N, n, q = 10, 10, 0.6\n",
    "compare_vertex_average(N=N,n=n, q=q, graph_type=\"SBM\")"
   ]
  },
  {
   "cell_type": "code",
   "execution_count": 61,
   "id": "b116d034",
   "metadata": {},
   "outputs": [
    {
     "data": {
      "text/plain": [
       "[np.float64(0.001128890138071794),\n",
       " np.float64(0.01910074421628779),\n",
       " np.float64(0.0014456476363399666),\n",
       " np.float64(-0.0971907677760256),\n",
       " np.float64(-0.09469326525119218),\n",
       " np.float64(-0.01128924808051381),\n",
       " np.float64(-0.043487595149941854),\n",
       " np.float64(0.022539873619253376),\n",
       " np.float64(0.06751442512876898),\n",
       " np.float64(0.003148823409726921)]"
      ]
     },
     "execution_count": 61,
     "metadata": {},
     "output_type": "execute_result"
    }
   ],
   "source": [
    "N, n, q = 10, 20, 0.6\n",
    "compare_vertex_average(N=N,n=n, q=q, graph_type=\"SBM\")"
   ]
  },
  {
   "cell_type": "code",
   "execution_count": 62,
   "id": "ac8f710c",
   "metadata": {},
   "outputs": [
    {
     "data": {
      "text/plain": [
       "[np.float64(0.02558439894750654),\n",
       " np.float64(-0.018156969103613585),\n",
       " np.float64(-0.0910694043308945),\n",
       " np.float64(0.04904420354329992),\n",
       " np.float64(0.03112705636191382),\n",
       " np.float64(0.019241565946347503),\n",
       " np.float64(0.08827236712685704),\n",
       " np.float64(-0.14808396237359936),\n",
       " np.float64(-0.1122472061285431),\n",
       " np.float64(0.17630894031796404)]"
      ]
     },
     "execution_count": 62,
     "metadata": {},
     "output_type": "execute_result"
    }
   ],
   "source": [
    "N, n, q = 10, 10, 0.7\n",
    "compare_vertex_average(N=N,n=n, q=q, graph_type=\"SBM\")"
   ]
  },
  {
   "cell_type": "code",
   "execution_count": 63,
   "id": "957edc62",
   "metadata": {},
   "outputs": [
    {
     "data": {
      "text/plain": [
       "[np.float64(0.11389794630250465),\n",
       " np.float64(-0.029506689576705578),\n",
       " np.float64(-0.008190557262834547),\n",
       " np.float64(0.043880799578616014),\n",
       " np.float64(-0.05564004785689283),\n",
       " np.float64(0.0441873410258655),\n",
       " np.float64(0.02315715118375214),\n",
       " np.float64(-0.06115890488884684),\n",
       " np.float64(0.019203716495157005),\n",
       " np.float64(-0.042696995750223204)]"
      ]
     },
     "execution_count": 63,
     "metadata": {},
     "output_type": "execute_result"
    }
   ],
   "source": [
    "N, n, q = 10, 20, 0.7\n",
    "compare_vertex_average(N=N,n=n, q=q, graph_type=\"SBM\")"
   ]
  },
  {
   "cell_type": "markdown",
   "id": "79585f17",
   "metadata": {},
   "source": [
    "## 3. Testing conjecture\n",
    "\n",
    "We conjecture that for edges with equal Lin-Lu-Yau curvature, the Steinerberger curvature of the endpoints must coincide. Such graphs exist:"
   ]
  },
  {
   "cell_type": "code",
   "execution_count": 40,
   "id": "d36ff5bf",
   "metadata": {},
   "outputs": [],
   "source": [
    "def find_keys_with_same_values(d):\n",
    "    # Invert the dictionary: map value -> list of keys having that value\n",
    "    value_to_keys = {}\n",
    "    for key, value in d.items():\n",
    "        value_to_keys.setdefault(value, []).append(key)\n",
    "    \n",
    "    # Filter only those values that have more than one key corresponding to the value\n",
    "    result = [keys for keys in value_to_keys.values() if len(keys) > 1]\n",
    "    return result\n"
   ]
  },
  {
   "cell_type": "code",
   "execution_count": 41,
   "id": "b5eae3a0",
   "metadata": {},
   "outputs": [
    {
     "data": {
      "image/png": "[encoded data removed]",
      "text/plain": [
       "<Figure size 640x480 with 1 Axes>"
      ]
     },
     "metadata": {},
     "output_type": "display_data"
    }
   ],
   "source": [
    "G1 = nx.complete_graph(4)\n",
    "G1 = nx.relabel_nodes(G1, mapping={0:5, 1:6, 2:7, 3: 8})\n",
    "G2 = nx.complete_graph(5)\n",
    "G = nx.union(G1, G2)\n",
    "G.add_edges_from([(0,5), (1, 9), (9,10), (10,1)])\n",
    "nx.draw(G)\n"
   ]
  },
  {
   "cell_type": "code",
   "execution_count": 43,
   "id": "70571e34",
   "metadata": {},
   "outputs": [
    {
     "name": "stdout",
     "output_type": "stream",
     "text": [
      "{(5, 6): 0.833, (5, 7): 0.833, (5, 8): 0.833, (5, 0): -1.1, (6, 7): 1.333, (6, 8): 1.333, (7, 8): 1.333, (0, 1): 0.333, (0, 2): 0.85, (0, 3): 0.85, (0, 4): 0.85, (1, 2): 0.583, (1, 3): 0.583, (1, 4): 0.583, (1, 9): 0.167, (1, 10): 0.167, (2, 3): 1.25, (2, 4): 1.25, (3, 4): 1.25, (9, 10): 1.5}\n",
      "[[(5, 6), (5, 7), (5, 8)], [(6, 7), (6, 8), (7, 8)], [(0, 2), (0, 3), (0, 4)], [(1, 2), (1, 3), (1, 4)], [(1, 9), (1, 10)], [(2, 3), (2, 4), (3, 4)]]\n",
      "[-1.21472393 -1.88957055  0.80981595  0.80981595  0.80981595 -1.01226994\n",
      "  1.01226994  1.01226994  1.01226994  1.34969325  1.34969325]\n",
      "Passt\n",
      "Passt\n",
      "Passt\n",
      "Passt\n",
      "Passt\n",
      "Passt\n",
      "Passt\n",
      "Passt\n",
      "Passt\n",
      "Passt\n",
      "Passt\n",
      "Passt\n",
      "Passt\n",
      "Passt\n",
      "Passt\n",
      "Passt\n"
     ]
    }
   ],
   "source": [
    "llyCurv = lly_curvature(G, double_edges=False)\n",
    "steinerbergerCurv = steinerbergerCurvature(G)\n",
    "edges_with_equal_lly_curv = find_keys_with_same_values(llyCurv)\n",
    "\n",
    "print(llyCurv)\n",
    "print(edges_with_equal_lly_curv)\n",
    "print(steinerbergerCurv)\n",
    "\n",
    "for edge_list in edges_with_equal_lly_curv:\n",
    "    for i in range(len(edge_list)):\n",
    "        for j in range(i+1, len(edge_list)):\n",
    "            if (round(steinerbergerCurv[edge_list[i][0]],3) == round(steinerbergerCurv[edge_list[j][0]],3)) and (round(steinerbergerCurv[edge_list[i][1]],3) == round(steinerbergerCurv[edge_list[j][1]],3)):\n",
    "                print(\"Passt\")\n",
    "            elif (round(steinerbergerCurv[edge_list[i][0]],3) == round(steinerbergerCurv[edge_list[j][1]],3)) and (round(steinerbergerCurv[edge_list[i][1]],3) == round(steinerbergerCurv[edge_list[j][0]],3)):\n",
    "                print(\"Passt\")\n",
    "            else:\n",
    "                print(\"Passt it\")"
   ]
  },
  {
   "cell_type": "markdown",
   "id": "9ef818cf",
   "metadata": {},
   "source": [
    "## 3.1 Testing on random graphs\n",
    "\n",
    "On random graphs, we don't get this kind of behaviour."
   ]
  },
  {
   "cell_type": "code",
   "execution_count": 58,
   "id": "753cfdb5",
   "metadata": {},
   "outputs": [
    {
     "name": "stdout",
     "output_type": "stream",
     "text": [
      "{(0, 1): 0.3, (0, 6): 0.667, (1, 2): 0.4, (1, 4): 0.233, (1, 5): 0.55, (1, 8): 0.475, (2, 4): 0.933, (2, 7): 0.55, (2, 8): 0.7, (2, 9): 0.75, (3, 4): 0.667, (3, 7): 1.0, (3, 8): 0.417, (4, 7): 0.75, (4, 8): 0.75, (4, 9): 0.583, (5, 6): 0.583, (5, 8): 0.5, (5, 9): 0.5, (6, 8): 0.083, (7, 8): 0.5, (8, 9): 0.625}\n",
      "[[(0, 6), (3, 4)], [(1, 5), (2, 7)], [(2, 9), (4, 7), (4, 8)], [(4, 9), (5, 6)], [(5, 8), (5, 9), (7, 8)]]\n",
      "[ 2.00000000e+01 -1.00000000e+01 -1.00000000e+01  6.21724894e-15\n",
      " -1.00000000e+01  8.88178420e-15 -2.00000000e+01  1.00000000e+01\n",
      "  1.00000000e+01  1.00000000e+01]\n",
      "Passt it\n",
      "Passt it\n",
      "Passt\n",
      "Passt\n",
      "Passt\n",
      "Passt it\n",
      "Passt\n",
      "Passt it\n",
      "Passt it\n"
     ]
    }
   ],
   "source": [
    "G=nx.erdos_renyi_graph(n=10, p=0.5)\n",
    "llyCurv = lly_curvature(G, double_edges=False)\n",
    "steinerbergerCurv = steinerbergerCurvature(G)\n",
    "edges_with_equal_lly_curv = find_keys_with_same_values(llyCurv)\n",
    "\n",
    "print(llyCurv)\n",
    "print(edges_with_equal_lly_curv)\n",
    "print(steinerbergerCurv)\n",
    "\n",
    "for edge_list in edges_with_equal_lly_curv:\n",
    "    for i in range(len(edge_list)):\n",
    "        for j in range(i+1, len(edge_list)):\n",
    "            if (round(steinerbergerCurv[edge_list[i][0]],3) == round(steinerbergerCurv[edge_list[j][0]],3)) and (round(steinerbergerCurv[edge_list[i][1]],3) == round(steinerbergerCurv[edge_list[j][1]],3)):\n",
    "                print(\"Passt\")\n",
    "            elif (round(steinerbergerCurv[edge_list[i][0]],3) == round(steinerbergerCurv[edge_list[j][1]],3)) and (round(steinerbergerCurv[edge_list[i][1]],3) == round(steinerbergerCurv[edge_list[j][0]],3)):\n",
    "                print(\"Passt\")\n",
    "            else:\n",
    "                print(\"Passt it\")\n",
    "            \"\"\"    \n",
    "            if round(steinerbergerCurv[edge_list[i][0]],3) + round(steinerbergerCurv[edge_list[i][1]],3) == round(steinerbergerCurv[edge_list[j][0]],3) + round(steinerbergerCurv[edge_list[j][1]],3):\n",
    "                print(\"Passt\")\n",
    "            else:\n",
    "                print(\"Passt it\")\"\"\""
   ]
  }
 ],
 "metadata": {
  "kernelspec": {
   "display_name": ".venv",
   "language": "python",
   "name": "python3"
  },
  "language_info": {
   "codemirror_mode": {
    "name": "ipython",
    "version": 3
   },
   "file_extension": ".py",
   "mimetype": "text/x-python",
   "name": "python",
   "nbconvert_exporter": "python",
   "pygments_lexer": "ipython3",
   "version": "3.13.3"
  }
 },
 "nbformat": 4,
 "nbformat_minor": 5
}
