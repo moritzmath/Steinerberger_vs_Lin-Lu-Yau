{
 "cells": [
  {
   "cell_type": "markdown",
   "id": "244f98a0",
   "metadata": {},
   "source": [
    "# 1. Setup  "
   ]
  },
  {
   "cell_type": "code",
   "execution_count": 2,
   "id": "b4087c90",
   "metadata": {},
   "outputs": [],
   "source": [
    "import networkx as nx\n",
    "from scipy.stats import pearsonr\n",
    "\n",
    "from curvatures import steinerbergerCurvature, lly_curvature"
   ]
  },
  {
   "cell_type": "markdown",
   "id": "dfd03134",
   "metadata": {},
   "source": [
    "# 2. Comparison between curvatures\n",
    "\n",
    "We compare the values of the Steinerberger curvature and the Lin-Lu-Yau curvature on different random graphs"
   ]
  },
  {
   "cell_type": "code",
   "execution_count": 3,
   "id": "8be2a6e0",
   "metadata": {},
   "outputs": [],
   "source": [
    "def compare_edge_average(N,n,q):\n",
    "    \"\"\"Compare the Steinerberger curvature to the Lin-Lu-Yau curvature by averaging the Steinerberger curvature of the two endpoints of an edge\n",
    "\n",
    "    Args:\n",
    "        N (int): Number of graphs\n",
    "        n (int): Number of vertices in the Erdos-Renyi graph\n",
    "        q (float): Probability for edge creation\n",
    "    \"\"\"\n",
    "    pearson_correlation = []\n",
    "    for _ in range(N):\n",
    "        G=nx.erdos_renyi_graph(n=n, p=q)\n",
    "        while not nx.is_connected(G):\n",
    "            G=nx.erdos_renyi_graph(n=n, p=q)\n",
    "            print(\"Disconnected Graph encountered\")\n",
    "\n",
    "        llyCurv = lly_curvature(G)\n",
    "        steinerbergerCurv = steinerbergerCurvature(G)\n",
    "        avg_steinerberger_curv = []\n",
    "        llyCurvList = []\n",
    "        edges_covered = []\n",
    "        for edge in llyCurv.keys():\n",
    "            if not edge in edges_covered:\n",
    "                average_steinerberger_curv = 0.5*(steinerbergerCurv[edge[0]] + steinerbergerCurv[edge[1]])\n",
    "                avg_steinerberger_curv.append(average_steinerberger_curv)\n",
    "                llyCurvList.append(llyCurv[edge])\n",
    "                edges_covered.append((edge[1], edge[0]))\n",
    "       \n",
    "        r, p = pearsonr(llyCurvList, avg_steinerberger_curv)\n",
    "        \n",
    "        pearson_correlation.append(r)\n",
    "    return pearson_correlation"
   ]
  },
  {
   "cell_type": "code",
   "execution_count": 4,
   "id": "28984050",
   "metadata": {},
   "outputs": [],
   "source": [
    "def compare_vertex_average(N,n,q):\n",
    "    \"\"\"Compare the Steinerberger curvature to the Lin-Lu-Yau curvature by averaging the Lin-Lu-Yau curvature of all edges adjacent to a given vertex\n",
    "\n",
    "    Args:\n",
    "        N (int): Number of graphs\n",
    "        n (int): NUmber of vertices in the Erdos-Renyi graph\n",
    "        q (float): Probability of edge creation\n",
    "    \"\"\"\n",
    "    pearson_correlation = []\n",
    "    for _ in range(N):\n",
    "        G = nx.erdos_renyi_graph(n=n,p=q)\n",
    "        while not nx.is_connected(G):\n",
    "            G=nx.erdos_renyi_graph(n=n, p=q)\n",
    "            print(\"Disconnected Graph encountered\")\n",
    "        llyCurv = lly_curvature(G)\n",
    "        steinerbergerCurv = steinerbergerCurvature(G)\n",
    "        llyCurv_vertex = []\n",
    "        for i in range(n):\n",
    "            lly_curv_average = 0\n",
    "            for j in range(n):\n",
    "                if G.has_edge(i,j):\n",
    "                    lly_curv_average += llyCurv[(i,j)]\n",
    "            lly_curv_average /= G.degree(i)\n",
    "            llyCurv_vertex.append(lly_curv_average)\n",
    "        r, p = pearsonr(llyCurv_vertex, steinerbergerCurv)   \n",
    "        pearson_correlation.append(r)\n",
    "    return pearson_correlation"
   ]
  },
  {
   "cell_type": "markdown",
   "id": "322fb3a3",
   "metadata": {},
   "source": [
    "## 2.1 Erdős–Rényi model"
   ]
  },
  {
   "cell_type": "markdown",
   "id": "9f06ee0a",
   "metadata": {},
   "source": [
    "### 2.1.1 Averaging over endpoints of an edge"
   ]
  },
  {
   "cell_type": "code",
   "execution_count": 10,
   "id": "6ea67da4",
   "metadata": {},
   "outputs": [
    {
     "data": {
      "text/plain": [
       "[np.float64(0.42430098019624174),\n",
       " np.float64(-0.15893605374836509),\n",
       " np.float64(-0.2925479782480521),\n",
       " np.float64(0.23596954972512682),\n",
       " np.float64(0.2238547264327692),\n",
       " np.float64(0.24830542624130453),\n",
       " np.float64(-0.3795000748755613),\n",
       " np.float64(0.20421474296874395),\n",
       " np.float64(-0.17965352035849277),\n",
       " np.float64(-0.12817606220332575)]"
      ]
     },
     "execution_count": 10,
     "metadata": {},
     "output_type": "execute_result"
    }
   ],
   "source": [
    "N, n, q = 10, 10, 0.5\n",
    "compare_edge_average(N=N,n=n, q=q)"
   ]
  },
  {
   "cell_type": "code",
   "execution_count": 5,
   "id": "889c795f",
   "metadata": {},
   "outputs": [
    {
     "data": {
      "text/plain": [
       "[np.float64(-0.2797807528828695),\n",
       " np.float64(-0.07576140496628729),\n",
       " np.float64(-0.22623850626587325),\n",
       " np.float64(-0.01815813787190733),\n",
       " np.float64(0.2674106311418746),\n",
       " np.float64(-0.17986924992127368),\n",
       " np.float64(-0.2914597668259364),\n",
       " np.float64(-0.20474636748651304),\n",
       " np.float64(-0.10496221191918542),\n",
       " np.float64(0.06141742063785948)]"
      ]
     },
     "execution_count": 5,
     "metadata": {},
     "output_type": "execute_result"
    }
   ],
   "source": [
    "N, n, q = 10, 10, 0.6\n",
    "compare_edge_average(N=N,n=n, q=q)"
   ]
  },
  {
   "cell_type": "code",
   "execution_count": 9,
   "id": "1ef385fc",
   "metadata": {},
   "outputs": [
    {
     "data": {
      "text/plain": [
       "[np.float64(-0.057868963142011155),\n",
       " np.float64(-0.38823350855434624),\n",
       " np.float64(-0.22302824774483893),\n",
       " np.float64(-0.11271361665570645),\n",
       " np.float64(-0.18787435819662837),\n",
       " np.float64(-0.07276488660964225),\n",
       " np.float64(0.015054984826656743),\n",
       " np.float64(-0.2584050938393682),\n",
       " np.float64(-0.0730507883543393),\n",
       " np.float64(-0.08576410452570024)]"
      ]
     },
     "execution_count": 9,
     "metadata": {},
     "output_type": "execute_result"
    }
   ],
   "source": [
    "N, n, q = 10, 10, 0.7\n",
    "compare_edge_average(N=N,n=n, q=q)"
   ]
  },
  {
   "cell_type": "code",
   "execution_count": 11,
   "id": "39bd208c",
   "metadata": {},
   "outputs": [
    {
     "data": {
      "text/plain": [
       "[np.float64(-0.03669430561416865),\n",
       " np.float64(0.06648560278955576),\n",
       " np.float64(-0.13172088176483818),\n",
       " np.float64(-0.16616995603365164),\n",
       " np.float64(0.10596534527936467),\n",
       " np.float64(-0.11925135729960407),\n",
       " np.float64(-0.15357538999551226),\n",
       " np.float64(-0.059215370243819544),\n",
       " np.float64(-0.18067806396406438),\n",
       " np.float64(-0.2603895808848572)]"
      ]
     },
     "execution_count": 11,
     "metadata": {},
     "output_type": "execute_result"
    }
   ],
   "source": [
    "N, n, q = 10, 20, 0.5\n",
    "compare_edge_average(N=N,n=n, q=q)"
   ]
  },
  {
   "cell_type": "code",
   "execution_count": 7,
   "id": "ef9ece3c",
   "metadata": {},
   "outputs": [
    {
     "data": {
      "text/plain": [
       "[np.float64(0.038985771535817976),\n",
       " np.float64(0.1734792296130449),\n",
       " np.float64(0.027706924323001376),\n",
       " np.float64(0.007255954544591406),\n",
       " np.float64(0.09581611930632108),\n",
       " np.float64(-0.1877142271269428),\n",
       " np.float64(-0.009641071155252654),\n",
       " np.float64(-0.06880384827329553),\n",
       " np.float64(-0.13451522585301864),\n",
       " np.float64(-0.23901081193734053)]"
      ]
     },
     "execution_count": 7,
     "metadata": {},
     "output_type": "execute_result"
    }
   ],
   "source": [
    "N, n, q = 10, 20, 0.6\n",
    "compare_edge_average(N=N,n=n, q=q)"
   ]
  },
  {
   "cell_type": "code",
   "execution_count": 8,
   "id": "8e1ccd7b",
   "metadata": {},
   "outputs": [
    {
     "data": {
      "text/plain": [
       "[np.float64(-0.015658973357300716),\n",
       " np.float64(-0.3595266654235076),\n",
       " np.float64(-0.0657056828399864),\n",
       " np.float64(-0.18730613678213473),\n",
       " np.float64(-0.016384389262432904),\n",
       " np.float64(-0.09862590928286212),\n",
       " np.float64(-0.22605055479105662),\n",
       " np.float64(-0.10127710684852224),\n",
       " np.float64(0.05217079319434463),\n",
       " np.float64(-0.3011298383692389)]"
      ]
     },
     "execution_count": 8,
     "metadata": {},
     "output_type": "execute_result"
    }
   ],
   "source": [
    "N, n, q = 10, 20, 0.7\n",
    "compare_edge_average(N=N,n=n, q=q)"
   ]
  },
  {
   "cell_type": "markdown",
   "id": "33395120",
   "metadata": {},
   "source": [
    "### 2.1.2 Averaging over adjacent edges"
   ]
  },
  {
   "cell_type": "code",
   "execution_count": 12,
   "id": "5572289b",
   "metadata": {},
   "outputs": [
    {
     "data": {
      "text/plain": [
       "[np.float64(-0.05352453391632968),\n",
       " np.float64(0.4105680715210036),\n",
       " np.float64(-0.25426225654110235),\n",
       " np.float64(0.25868885360876387),\n",
       " np.float64(0.22450033110527254),\n",
       " np.float64(0.32083902304087225),\n",
       " np.float64(0.3008409767446819),\n",
       " np.float64(-0.1646814211584376),\n",
       " np.float64(0.25182953108601597),\n",
       " np.float64(0.04663707991546824)]"
      ]
     },
     "execution_count": 12,
     "metadata": {},
     "output_type": "execute_result"
    }
   ],
   "source": [
    "N, n, q = 10, 10, 0.5\n",
    "compare_vertex_average(N=N,n=n, q=q)"
   ]
  },
  {
   "cell_type": "code",
   "execution_count": 13,
   "id": "3d83287f",
   "metadata": {},
   "outputs": [
    {
     "data": {
      "text/plain": [
       "[np.float64(0.02735540805052154),\n",
       " np.float64(0.003319368239808912),\n",
       " np.float64(0.1939991845496125),\n",
       " np.float64(-0.1655027286609075),\n",
       " np.float64(-0.20614260943011348),\n",
       " np.float64(-0.3406349408014726),\n",
       " np.float64(-0.45912207472841543),\n",
       " np.float64(-0.06852299499606049),\n",
       " np.float64(-0.11330246532963559),\n",
       " np.float64(0.12533307555285195)]"
      ]
     },
     "execution_count": 13,
     "metadata": {},
     "output_type": "execute_result"
    }
   ],
   "source": [
    "N, n, q = 10, 10, 0.6\n",
    "compare_vertex_average(N=N,n=n, q=q)"
   ]
  },
  {
   "cell_type": "code",
   "execution_count": 15,
   "id": "4a78d1ac",
   "metadata": {},
   "outputs": [
    {
     "data": {
      "text/plain": [
       "[np.float64(-0.3005213214121122),\n",
       " np.float64(-0.8594214959835683),\n",
       " np.float64(-0.3006758539441868),\n",
       " np.float64(-0.3708697381251771),\n",
       " np.float64(0.2451736461928996),\n",
       " np.float64(-0.0979597954881687),\n",
       " np.float64(-0.1575244081479311),\n",
       " np.float64(-0.2756450179743144),\n",
       " np.float64(-0.47051660014168467),\n",
       " np.float64(0.01529967113212885)]"
      ]
     },
     "execution_count": 15,
     "metadata": {},
     "output_type": "execute_result"
    }
   ],
   "source": [
    "N, n, q = 10, 10, 0.7\n",
    "compare_vertex_average(N=N,n=n, q=q)"
   ]
  },
  {
   "cell_type": "code",
   "execution_count": 16,
   "id": "beeb259c",
   "metadata": {},
   "outputs": [
    {
     "data": {
      "text/plain": [
       "[np.float64(-0.06791594703144622),\n",
       " np.float64(-0.10659390022378151),\n",
       " np.float64(0.05149975415428631),\n",
       " np.float64(-0.24728590678473755),\n",
       " np.float64(0.16700851317206497),\n",
       " np.float64(-0.1005175765926297),\n",
       " np.float64(-0.1621752977015499),\n",
       " np.float64(-0.08875255387464359),\n",
       " np.float64(-0.1836505984654909),\n",
       " np.float64(-0.13532421926960042)]"
      ]
     },
     "execution_count": 16,
     "metadata": {},
     "output_type": "execute_result"
    }
   ],
   "source": [
    "N, n, q = 10, 20, 0.5\n",
    "compare_vertex_average(N=N,n=n, q=q)"
   ]
  },
  {
   "cell_type": "code",
   "execution_count": 17,
   "id": "f5dbce0e",
   "metadata": {},
   "outputs": [
    {
     "data": {
      "text/plain": [
       "[np.float64(0.02245542499822349),\n",
       " np.float64(-0.13044106238843028),\n",
       " np.float64(-0.3774269197631887),\n",
       " np.float64(-0.08275447205072346),\n",
       " np.float64(-0.15951821475728437),\n",
       " np.float64(0.009751061708742709),\n",
       " np.float64(-0.04898629773377189),\n",
       " np.float64(-0.23222839994384475),\n",
       " np.float64(-0.24662358818873725),\n",
       " np.float64(-0.004091155340857709)]"
      ]
     },
     "execution_count": 17,
     "metadata": {},
     "output_type": "execute_result"
    }
   ],
   "source": [
    "N, n, q = 10, 20, 0.6\n",
    "compare_vertex_average(N=N,n=n, q=q)"
   ]
  },
  {
   "cell_type": "code",
   "execution_count": 18,
   "id": "75c0cbdc",
   "metadata": {},
   "outputs": [
    {
     "data": {
      "text/plain": [
       "[np.float64(-0.43809934795157124),\n",
       " np.float64(-0.021719610754632544),\n",
       " np.float64(-0.2317809412445701),\n",
       " np.float64(0.32430599303765345),\n",
       " np.float64(-0.09346136940880612),\n",
       " np.float64(-0.25743962638284296),\n",
       " np.float64(0.001481504500520578),\n",
       " np.float64(-0.015583673159788293),\n",
       " np.float64(0.12865135126304827),\n",
       " np.float64(-0.3907909840088652)]"
      ]
     },
     "execution_count": 18,
     "metadata": {},
     "output_type": "execute_result"
    }
   ],
   "source": [
    "N, n, q = 10, 20, 0.7\n",
    "compare_vertex_average(N=N,n=n, q=q)"
   ]
  },
  {
   "cell_type": "code",
   "execution_count": 60,
   "id": "32b74892",
   "metadata": {},
   "outputs": [
    {
     "name": "stdout",
     "output_type": "stream",
     "text": [
      "[0, 1, 2, 3]\n"
     ]
    },
    {
     "data": {
      "image/png": "[encoded data removed]",
      "text/plain": [
       "<Figure size 640x480 with 1 Axes>"
      ]
     },
     "metadata": {},
     "output_type": "display_data"
    }
   ],
   "source": [
    "G1 = nx.complete_graph(4)\n",
    "G2 = nx.complete_graph(5)\n",
    "print(G1.nodes())\n",
    "G1 = nx.relabel_nodes(G1, mapping={0:5, 1:6, 2:7, 3: 8})\n",
    "G = nx.union(G1, G2)\n",
    "G.add_edge(0, 5)\n",
    "G.add_edges_from([(1,9), (9,10), (10,1)])\n",
    "nx.draw(G, with_labels=True)"
   ]
  },
  {
   "cell_type": "code",
   "execution_count": 61,
   "id": "a86f6499",
   "metadata": {},
   "outputs": [
    {
     "name": "stdout",
     "output_type": "stream",
     "text": [
      "[np.float64(1.3322676295501878e-15), np.float64(1.7763568394002505e-15), np.float64(2.220446049250313e-15), np.float64(-1.1134969325153357), np.float64(1.0122699386503071), np.float64(1.0122699386503076), np.float64(1.012269938650308), np.float64(-1.552147239263801), np.float64(-0.20245398773006174), np.float64(-0.2024539877300624), np.float64(-0.2024539877300604), np.float64(-0.5398773006134954), np.float64(-0.539877300613496), np.float64(-0.539877300613494), np.float64(-0.26993865030674624), np.float64(-0.269938650306746), np.float64(0.8098159509202432), np.float64(0.8098159509202452), np.float64(0.8098159509202445), np.float64(1.3496932515337423)]\n"
     ]
    }
   ],
   "source": [
    "llyCurv = lly_curvature(G)\n",
    "steinerbergerCurv = steinerbergerCurvature(G)\n",
    "avg_steinerberger_curv = []\n",
    "llyCurvList = []\n",
    "edges_covered = []\n",
    "for edge in llyCurv.keys():\n",
    "    if not edge in edges_covered:\n",
    "        average_steinerberger_curv = 0.5*(steinerbergerCurv[edge[0]] + steinerbergerCurv[edge[1]])\n",
    "        avg_steinerberger_curv.append(average_steinerberger_curv)\n",
    "        llyCurvList.append(llyCurv[edge])\n",
    "        edges_covered.append((edge[1], edge[0]))\n",
    "print(avg_steinerberger_curv)"
   ]
  },
  {
   "cell_type": "code",
   "execution_count": 62,
   "id": "2fcc3ca8",
   "metadata": {},
   "outputs": [
    {
     "data": {
      "text/plain": [
       "[0.8333333333333335,\n",
       " 0.8333333333333335,\n",
       " 0.8333333333333335,\n",
       " -1.0999999999999996,\n",
       " 1.3333333333333333,\n",
       " 1.3333333333333333,\n",
       " 1.3333333333333333,\n",
       " 0.3333333333333348,\n",
       " 0.8500000000000005,\n",
       " 0.8500000000000005,\n",
       " 0.8500000000000008,\n",
       " 0.5833333333333335,\n",
       " 0.5833333333333335,\n",
       " 0.5833333333333335,\n",
       " 0.16666666666666696,\n",
       " 0.16666666666666696,\n",
       " 1.25,\n",
       " 1.25,\n",
       " 1.25,\n",
       " 1.5]"
      ]
     },
     "execution_count": 62,
     "metadata": {},
     "output_type": "execute_result"
    }
   ],
   "source": [
    "llyCurvList"
   ]
  },
  {
   "cell_type": "code",
   "execution_count": 63,
   "id": "df8288e4",
   "metadata": {},
   "outputs": [
    {
     "data": {
      "text/plain": [
       "array([-1.21472393, -1.88957055,  0.80981595,  0.80981595,  0.80981595,\n",
       "       -1.01226994,  1.01226994,  1.01226994,  1.01226994,  1.34969325,\n",
       "        1.34969325])"
      ]
     },
     "execution_count": 63,
     "metadata": {},
     "output_type": "execute_result"
    }
   ],
   "source": [
    "steinerbergerCurv"
   ]
  },
  {
   "cell_type": "code",
   "execution_count": null,
   "id": "049246a2",
   "metadata": {},
   "outputs": [],
   "source": []
  }
 ],
 "metadata": {
  "kernelspec": {
   "display_name": ".venv",
   "language": "python",
   "name": "python3"
  },
  "language_info": {
   "codemirror_mode": {
    "name": "ipython",
    "version": 3
   },
   "file_extension": ".py",
   "mimetype": "text/x-python",
   "name": "python",
   "nbconvert_exporter": "python",
   "pygments_lexer": "ipython3",
   "version": "3.13.3"
  }
 },
 "nbformat": 4,
 "nbformat_minor": 5
}
